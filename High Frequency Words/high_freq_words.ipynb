{
 "cells": [
  {
   "cell_type": "markdown",
   "id": "14580e04-f3ad-4bff-b3d6-8a596b20c5a3",
   "metadata": {},
   "source": [
    "# High Frequency Words"
   ]
  },
  {
   "cell_type": "markdown",
   "id": "7f8b7ca8-6ef5-457c-a0fb-b931470242a4",
   "metadata": {},
   "source": [
    "### Import Packages"
   ]
  },
  {
   "cell_type": "code",
   "execution_count": 1,
   "id": "81536b7e-ddeb-47e8-862a-c6ae8295b5c2",
   "metadata": {},
   "outputs": [],
   "source": [
    "import pandas as pd\n",
    "import numpy as np\n",
    "import matplotlib.pyplot as plt\n",
    "import seaborn as sns\n",
    "import nltk"
   ]
  },
  {
   "cell_type": "markdown",
   "id": "c7681310-bfac-4484-944c-f36d13181248",
   "metadata": {},
   "source": [
    "### 1. Choose a corpus of interest."
   ]
  },
  {
   "cell_type": "code",
   "execution_count": null,
   "id": "af9302c4-85a6-4875-8ef0-8e61b9ff171a",
   "metadata": {},
   "outputs": [],
   "source": []
  },
  {
   "cell_type": "markdown",
   "id": "9ff927d8-8ef9-4f82-9b21-705b448f9728",
   "metadata": {},
   "source": [
    "### 2. How many total unique words are in the corpus? (Please feel free to define unique words in any interesting, defensible way).\n"
   ]
  },
  {
   "cell_type": "code",
   "execution_count": null,
   "id": "677b6e57-53c1-4ef6-9e82-bc0857854bdf",
   "metadata": {},
   "outputs": [],
   "source": []
  },
  {
   "cell_type": "markdown",
   "id": "bb05538b-b7a5-45b1-9107-22bc733f04d7",
   "metadata": {},
   "source": [
    "### 3. Taking the most common words, how many unique words represent half of the total words in the corpus?"
   ]
  },
  {
   "cell_type": "code",
   "execution_count": null,
   "id": "69e98ab4-11fa-495f-8c97-fd4696aa0736",
   "metadata": {},
   "outputs": [],
   "source": []
  },
  {
   "cell_type": "markdown",
   "id": "5c17267b-d79b-4ec7-bb60-33e1c7c9df3b",
   "metadata": {},
   "source": [
    "### 4. Taking the most common words, how many unique words represent half of the total words in the corpus?"
   ]
  },
  {
   "cell_type": "code",
   "execution_count": null,
   "id": "3002b58b-011a-4920-a090-88f8065aee7f",
   "metadata": {},
   "outputs": [],
   "source": []
  },
  {
   "cell_type": "markdown",
   "id": "98687dfb-feaf-4280-b93f-568885f149b5",
   "metadata": {},
   "source": [
    "### 5. Identify the 200 highest frequency words in this corpus."
   ]
  },
  {
   "cell_type": "code",
   "execution_count": null,
   "id": "778f0f1d-c448-4ace-99a4-a568e67d2ee6",
   "metadata": {},
   "outputs": [],
   "source": []
  },
  {
   "cell_type": "markdown",
   "id": "2e8d68cf-5fbf-43ab-adc2-7e26a0e1ac00",
   "metadata": {},
   "source": [
    "### 6. Create a graph that shows the relative frequency of these 200 words."
   ]
  },
  {
   "cell_type": "code",
   "execution_count": null,
   "id": "3771f1e5-0165-4ebe-8e33-2ba845912cac",
   "metadata": {},
   "outputs": [],
   "source": []
  },
  {
   "cell_type": "markdown",
   "id": "6ef7f83d-2375-43fc-a318-27bf4630292e",
   "metadata": {},
   "source": [
    "### 7. In what ways do you think the frequency of the words in this corpus differ from “all words in all corpora.”"
   ]
  },
  {
   "cell_type": "code",
   "execution_count": null,
   "id": "08a53c79-7619-4682-9c9a-23386b7e5d87",
   "metadata": {},
   "outputs": [],
   "source": []
  },
  {
   "cell_type": "code",
   "execution_count": null,
   "id": "6af025d0-025c-4a82-b479-491e7f8e9e49",
   "metadata": {},
   "outputs": [],
   "source": []
  },
  {
   "cell_type": "code",
   "execution_count": null,
   "id": "d2c8ee3d-b14c-4585-97dc-0cc2896a68dd",
   "metadata": {},
   "outputs": [],
   "source": []
  },
  {
   "cell_type": "code",
   "execution_count": null,
   "id": "4f44cab4-15d4-43c5-9e83-45884a3dd5b4",
   "metadata": {},
   "outputs": [],
   "source": []
  },
  {
   "cell_type": "code",
   "execution_count": null,
   "id": "783f1528-dac8-49ca-83a7-9027871ad14d",
   "metadata": {},
   "outputs": [],
   "source": []
  },
  {
   "cell_type": "code",
   "execution_count": null,
   "id": "a1dd01b1-cbb2-4a73-9fdc-22bb19cdc732",
   "metadata": {},
   "outputs": [],
   "source": []
  },
  {
   "cell_type": "code",
   "execution_count": null,
   "id": "affdcea7-9fc5-4651-be17-a5623e9875f3",
   "metadata": {},
   "outputs": [],
   "source": []
  },
  {
   "cell_type": "code",
   "execution_count": null,
   "id": "7f08ca14-a8fe-4b53-9d9b-acbe6e4b0731",
   "metadata": {},
   "outputs": [],
   "source": []
  },
  {
   "cell_type": "code",
   "execution_count": null,
   "id": "66972f03-892f-4f21-8068-0f1d4293780d",
   "metadata": {},
   "outputs": [],
   "source": []
  },
  {
   "cell_type": "code",
   "execution_count": null,
   "id": "e9277567-c52c-4b64-9ce8-b1d10936c524",
   "metadata": {},
   "outputs": [],
   "source": []
  },
  {
   "cell_type": "code",
   "execution_count": null,
   "id": "19211ba7-c543-4c4e-b195-74fd298d438c",
   "metadata": {},
   "outputs": [],
   "source": []
  },
  {
   "cell_type": "code",
   "execution_count": null,
   "id": "eaaf7d2a-58f3-4392-8e16-421e6036fbb9",
   "metadata": {},
   "outputs": [],
   "source": []
  },
  {
   "cell_type": "code",
   "execution_count": null,
   "id": "be9ca26a-09fc-4896-9057-352458b3e7e0",
   "metadata": {},
   "outputs": [],
   "source": []
  }
 ],
 "metadata": {
  "kernelspec": {
   "display_name": ".venv",
   "language": "python",
   "name": ".venv"
  },
  "language_info": {
   "codemirror_mode": {
    "name": "ipython",
    "version": 3
   },
   "file_extension": ".py",
   "mimetype": "text/x-python",
   "name": "python",
   "nbconvert_exporter": "python",
   "pygments_lexer": "ipython3",
   "version": "3.9.6"
  }
 },
 "nbformat": 4,
 "nbformat_minor": 5
}
