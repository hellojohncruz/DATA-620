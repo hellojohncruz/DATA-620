{
 "cells": [
  {
   "cell_type": "markdown",
   "id": "14580e04-f3ad-4bff-b3d6-8a596b20c5a3",
   "metadata": {},
   "source": [
    "# High Frequency Words\n",
    "\n",
    "The dataset being worked with is from [Kaggle](https://www.kaggle.com/datasets/pdunton/marvel-cinematic-universe-dialogue?select=mcu_subset.csv) utilizing the scripts from various Marvel Cinematic Universe films.\n",
    "\n",
    "[Explanation](https://www.youtube.com/)"
   ]
  },
  {
   "cell_type": "markdown",
   "id": "7f8b7ca8-6ef5-457c-a0fb-b931470242a4",
   "metadata": {},
   "source": [
    "### Import Packages"
   ]
  },
  {
   "cell_type": "code",
   "execution_count": 1,
   "id": "81536b7e-ddeb-47e8-862a-c6ae8295b5c2",
   "metadata": {},
   "outputs": [],
   "source": [
    "import pandas as pd\n",
    "import numpy as np\n",
    "import matplotlib.pyplot as plt\n",
    "import seaborn as sns\n",
    "import re\n",
    "import nltk\n",
    "from nltk.probability import FreqDist\n",
    "from nltk.corpus import stopwords"
   ]
  },
  {
   "cell_type": "markdown",
   "id": "c7681310-bfac-4484-944c-f36d13181248",
   "metadata": {},
   "source": [
    "### 1. Choose a corpus of interest.\n",
    "\n",
    "We will be working with Marvel Cinematic Universe film scripts"
   ]
  },
  {
   "cell_type": "code",
   "execution_count": 2,
   "id": "8575188d-0bcd-4ee1-837c-5ccd4c640832",
   "metadata": {},
   "outputs": [],
   "source": [
    "df = pd.read_csv(\"mcu.csv\")\n",
    "df = df.drop(df.columns[0], axis=1)"
   ]
  },
  {
   "cell_type": "markdown",
   "id": "24cfe19c-72aa-4630-a1d1-1c93b9525be6",
   "metadata": {},
   "source": [
    "Here are the scripts available, and we notice that it does not include every film made in this universe. Because of this, lets focus on a specific character's set of movies. In this case it will be Captain America."
   ]
  },
  {
   "cell_type": "code",
   "execution_count": 3,
   "id": "fd2ef91b-219d-4622-9acb-b046743f2a4a",
   "metadata": {},
   "outputs": [
    {
     "data": {
      "text/html": [
       "<div>\n",
       "<style scoped>\n",
       "    .dataframe tbody tr th:only-of-type {\n",
       "        vertical-align: middle;\n",
       "    }\n",
       "\n",
       "    .dataframe tbody tr th {\n",
       "        vertical-align: top;\n",
       "    }\n",
       "\n",
       "    .dataframe thead th {\n",
       "        text-align: right;\n",
       "    }\n",
       "</style>\n",
       "<table border=\"1\" class=\"dataframe\">\n",
       "  <thead>\n",
       "    <tr style=\"text-align: right;\">\n",
       "      <th></th>\n",
       "      <th>movie</th>\n",
       "    </tr>\n",
       "  </thead>\n",
       "  <tbody>\n",
       "    <tr>\n",
       "      <th>9</th>\n",
       "      <td>Ant-Man</td>\n",
       "    </tr>\n",
       "    <tr>\n",
       "      <th>8</th>\n",
       "      <td>Avengers: Age of Ultron</td>\n",
       "    </tr>\n",
       "    <tr>\n",
       "      <th>17</th>\n",
       "      <td>Avengers: Endgame</td>\n",
       "    </tr>\n",
       "    <tr>\n",
       "      <th>15</th>\n",
       "      <td>Avengers: Infinity War</td>\n",
       "    </tr>\n",
       "    <tr>\n",
       "      <th>14</th>\n",
       "      <td>Black Panther</td>\n",
       "    </tr>\n",
       "    <tr>\n",
       "      <th>10</th>\n",
       "      <td>Captain America: Civil War</td>\n",
       "    </tr>\n",
       "    <tr>\n",
       "      <th>3</th>\n",
       "      <td>Captain America: The First Avenger</td>\n",
       "    </tr>\n",
       "    <tr>\n",
       "      <th>7</th>\n",
       "      <td>Captain America: The Winter Soldier</td>\n",
       "    </tr>\n",
       "    <tr>\n",
       "      <th>16</th>\n",
       "      <td>Captain Marvel</td>\n",
       "    </tr>\n",
       "    <tr>\n",
       "      <th>11</th>\n",
       "      <td>Guardians of the Galaxy Vol. 2</td>\n",
       "    </tr>\n",
       "    <tr>\n",
       "      <th>0</th>\n",
       "      <td>Iron Man</td>\n",
       "    </tr>\n",
       "    <tr>\n",
       "      <th>1</th>\n",
       "      <td>Iron Man 2</td>\n",
       "    </tr>\n",
       "    <tr>\n",
       "      <th>5</th>\n",
       "      <td>Iron Man 3</td>\n",
       "    </tr>\n",
       "    <tr>\n",
       "      <th>12</th>\n",
       "      <td>Spider-Man: Homecoming</td>\n",
       "    </tr>\n",
       "    <tr>\n",
       "      <th>4</th>\n",
       "      <td>The Avengers</td>\n",
       "    </tr>\n",
       "    <tr>\n",
       "      <th>2</th>\n",
       "      <td>Thor</td>\n",
       "    </tr>\n",
       "    <tr>\n",
       "      <th>13</th>\n",
       "      <td>Thor: Ragnarok</td>\n",
       "    </tr>\n",
       "    <tr>\n",
       "      <th>6</th>\n",
       "      <td>Thor: The Dark World</td>\n",
       "    </tr>\n",
       "  </tbody>\n",
       "</table>\n",
       "</div>"
      ],
      "text/plain": [
       "                                  movie\n",
       "9                               Ant-Man\n",
       "8               Avengers: Age of Ultron\n",
       "17                    Avengers: Endgame\n",
       "15               Avengers: Infinity War\n",
       "14                        Black Panther\n",
       "10           Captain America: Civil War\n",
       "3    Captain America: The First Avenger\n",
       "7   Captain America: The Winter Soldier\n",
       "16                       Captain Marvel\n",
       "11       Guardians of the Galaxy Vol. 2\n",
       "0                              Iron Man\n",
       "1                            Iron Man 2\n",
       "5                            Iron Man 3\n",
       "12               Spider-Man: Homecoming\n",
       "4                          The Avengers\n",
       "2                                  Thor\n",
       "13                       Thor: Ragnarok\n",
       "6                  Thor: The Dark World"
      ]
     },
     "execution_count": 3,
     "metadata": {},
     "output_type": "execute_result"
    }
   ],
   "source": [
    "df['movie'].drop_duplicates().reset_index().drop(columns=['index']).sort_values('movie')"
   ]
  },
  {
   "cell_type": "code",
   "execution_count": 4,
   "id": "0995a19c-7d7c-4bbc-a98f-c8b9bca7b827",
   "metadata": {},
   "outputs": [],
   "source": [
    "capt_america_df = df[df['movie'].str.contains('Captain America')]"
   ]
  },
  {
   "cell_type": "code",
   "execution_count": 5,
   "id": "df529b7b-22ab-4f45-95c7-f48539dae938",
   "metadata": {},
   "outputs": [
    {
     "data": {
      "text/plain": [
       "2520     Captain America: The First Avenger\n",
       "5845    Captain America: The Winter Soldier\n",
       "8441             Captain America: Civil War\n",
       "Name: movie, dtype: object"
      ]
     },
     "execution_count": 5,
     "metadata": {},
     "output_type": "execute_result"
    }
   ],
   "source": [
    "capt_america_df['movie'].drop_duplicates()"
   ]
  },
  {
   "cell_type": "code",
   "execution_count": 6,
   "id": "d5994d28-d75b-414e-8a9e-3a4c8ef7cedd",
   "metadata": {},
   "outputs": [
    {
     "data": {
      "text/plain": [
       "2520                    Are you the guys from Washington?\n",
       "2521                You get many other visitors out here?\n",
       "2522                      How long have you been on site?\n",
       "2523    Since this morning. A Russian oil team called ...\n",
       "2524                   How come nobody spotted it before?\n",
       "Name: line, dtype: object"
      ]
     },
     "execution_count": 6,
     "metadata": {},
     "output_type": "execute_result"
    }
   ],
   "source": [
    "capt_america_df['line'].head()"
   ]
  },
  {
   "cell_type": "markdown",
   "id": "349bfb30-b2c8-4f29-9f2e-5530e2cfb929",
   "metadata": {},
   "source": [
    "#### Create Corpus and Tokenize\n",
    "\n",
    "We then took all the actor's lines in the scripts and condensed it into one single corpus text. "
   ]
  },
  {
   "cell_type": "code",
   "execution_count": 7,
   "id": "0432e97e-79cf-4b2a-a2ee-f4dc208ce46b",
   "metadata": {},
   "outputs": [],
   "source": [
    "corpus_txt = capt_america_df['line'].str.cat(sep=' ')"
   ]
  },
  {
   "cell_type": "code",
   "execution_count": 8,
   "id": "e85ca442-7801-49b5-a6b7-97aff264f7ca",
   "metadata": {},
   "outputs": [
    {
     "data": {
      "text/plain": [
       "['Are', 'you', 'the', 'guys', 'from', 'Washington', '?', 'You', 'get', 'many']"
      ]
     },
     "execution_count": 8,
     "metadata": {},
     "output_type": "execute_result"
    }
   ],
   "source": [
    "def custom_tokenize(text):\n",
    "    pattern = r\"\\b\\w+(?:['’]\\w+)?\\b|[.,!?;]\"\n",
    "    return re.findall(pattern, text)\n",
    "\n",
    "tokens = custom_tokenize(corpus_txt)\n",
    "tokens[:10]"
   ]
  },
  {
   "cell_type": "markdown",
   "id": "9ff927d8-8ef9-4f82-9b21-705b448f9728",
   "metadata": {},
   "source": [
    "### 2. How many total unique words are in the corpus? (Please feel free to define unique words in any interesting, defensible way).\n"
   ]
  },
  {
   "cell_type": "markdown",
   "id": "77d7ef78-84a0-448c-8991-cb9f7a89037e",
   "metadata": {},
   "source": [
    "When we break down our corpus and into a frequency distribution and total up the unique words we find that we have roughly 4.5K unique words. However, at a closer look, we quickly notice that the word count is including punctuation such as **'?'** and **'.'** and also common words such as **'the'** and **'a'**. "
   ]
  },
  {
   "cell_type": "code",
   "execution_count": 9,
   "id": "458d1494-2495-4c60-8d3d-d4d759a02b02",
   "metadata": {},
   "outputs": [
    {
     "data": {
      "text/plain": [
       "FreqDist({'.': 4026, ',': 1532, 'the': 808, '?': 761, 'I': 733, 'you': 719, 'to': 597, 'a': 554, '!': 390, 'of': 327, ...})"
      ]
     },
     "execution_count": 9,
     "metadata": {},
     "output_type": "execute_result"
    }
   ],
   "source": [
    "freq_dist = FreqDist(tokens)\n",
    "freq_dist"
   ]
  },
  {
   "cell_type": "code",
   "execution_count": 10,
   "id": "6bcd09f0-6c3a-4c0b-afda-294ab9f6da45",
   "metadata": {},
   "outputs": [
    {
     "data": {
      "text/plain": [
       "4496"
      ]
     },
     "execution_count": 10,
     "metadata": {},
     "output_type": "execute_result"
    }
   ],
   "source": [
    "len(freq_dist)"
   ]
  },
  {
   "cell_type": "markdown",
   "id": "7243097b-505a-4ef8-8d48-cd511078059f",
   "metadata": {},
   "source": [
    "Looking at a chart we see the Top 5 most frequent unique words includes the issues previously mentioned. "
   ]
  },
  {
   "cell_type": "code",
   "execution_count": 11,
   "id": "9f101b23-f7c6-422c-8b75-05f903241c0d",
   "metadata": {},
   "outputs": [
    {
     "data": {
      "image/png": "[encoded data removed]",
      "text/plain": [
       "<Figure size 1000x600 with 1 Axes>"
      ]
     },
     "metadata": {},
     "output_type": "display_data"
    }
   ],
   "source": [
    "freq_df = pd.DataFrame(freq_dist.items(), columns=['Word', 'Frequency'])\n",
    "\n",
    "freq_df = freq_df.sort_values(by='Frequency', ascending=False)\n",
    "\n",
    "plt.figure(figsize=(10, 6))\n",
    "sns.barplot(x='Frequency', y='Word', data=freq_df.head(5))\n",
    "plt.title(\"Top 5 Most Frequent Words\")\n",
    "plt.xlabel(\"Frequency\")\n",
    "plt.ylabel(\"Word\")\n",
    "plt.show()"
   ]
  },
  {
   "cell_type": "markdown",
   "id": "b8fda308-ce66-496d-bd2c-fe75ae8e1028",
   "metadata": {},
   "source": [
    "#### Removing Stopwords\n",
    "\n",
    "We will now remove these common words, also called stopwords, and puntuation from the text. This will help us define a better approach of unique words within the corpus. \n",
    "\n",
    "We find that we now have roughly 4.2K unique words in our corpus."
   ]
  },
  {
   "cell_type": "code",
   "execution_count": 12,
   "id": "f1ec7af6-b794-4a67-a94a-8652421da47f",
   "metadata": {},
   "outputs": [
    {
     "data": {
      "text/plain": [
       "FreqDist({'know': 187, \"I'm\": 152, 'one': 96, 'gonna': 82, 'get': 77, 'got': 77, 'like': 76, 'think': 72, 'Yeah': 70, 'go': 67, ...})"
      ]
     },
     "execution_count": 12,
     "metadata": {},
     "output_type": "execute_result"
    }
   ],
   "source": [
    "stop_words = set(stopwords.words(\"english\"))\n",
    "\n",
    "def custom_tokenize(text):\n",
    "    pattern = r\"\\b\\w+(?:['’]\\w+)?\\b\"\n",
    "    return [word for word in re.findall(pattern, text) if word.lower() not in stop_words]\n",
    "\n",
    "tokens = custom_tokenize(corpus_txt)\n",
    "\n",
    "freq_dist = FreqDist(tokens)\n",
    "freq_dist"
   ]
  },
  {
   "cell_type": "code",
   "execution_count": 13,
   "id": "9e82a326-8c24-4996-a14b-82e179af9379",
   "metadata": {},
   "outputs": [
    {
     "data": {
      "text/plain": [
       "4244"
      ]
     },
     "execution_count": 13,
     "metadata": {},
     "output_type": "execute_result"
    }
   ],
   "source": [
    "len(freq_dist)"
   ]
  },
  {
   "cell_type": "markdown",
   "id": "cffedf16-dd14-4281-9f98-d20ee6b163a7",
   "metadata": {},
   "source": [
    "Looking at the Top 5 unique words now, we see that words such as **'know'** and **'got'** are moved up the list. "
   ]
  },
  {
   "cell_type": "code",
   "execution_count": 14,
   "id": "fe7591ca-ee50-46db-b6a0-1398619086f6",
   "metadata": {},
   "outputs": [
    {
     "data": {
      "image/png": "[encoded data removed]",
      "text/plain": [
       "<Figure size 1000x600 with 1 Axes>"
      ]
     },
     "metadata": {},
     "output_type": "display_data"
    }
   ],
   "source": [
    "freq_df = pd.DataFrame(freq_dist.items(), columns=['Word', 'Frequency'])\n",
    "\n",
    "freq_df = freq_df.sort_values(by='Frequency', ascending=False)\n",
    "\n",
    "plt.figure(figsize=(10, 6))\n",
    "sns.barplot(x='Frequency', y='Word', data=freq_df.head(5))\n",
    "plt.title(\"Top 5 Most Unique Words\")\n",
    "plt.figtext(0.1, 0.01, \"(Note: Excluding Punctuation and Stopwords)\")\n",
    "plt.xlabel(\"Frequency\")\n",
    "plt.show()"
   ]
  },
  {
   "cell_type": "markdown",
   "id": "bb05538b-b7a5-45b1-9107-22bc733f04d7",
   "metadata": {},
   "source": [
    "### 3. Taking the most common words, how many unique words represent half of the total words in the corpus?"
   ]
  },
  {
   "cell_type": "code",
   "execution_count": 15,
   "id": "9155bd71-e501-4ef8-bd18-921ab32cc9b4",
   "metadata": {},
   "outputs": [
    {
     "name": "stdout",
     "output_type": "stream",
     "text": [
      "There are a total of 13,672 words in our corpus.\n",
      "Half of the total words represented by 370 unique words.\n"
     ]
    }
   ],
   "source": [
    "def count_words(text, freq_words):\n",
    "    \n",
    "    cumulative_freq = 0\n",
    "    unique_words_half = list()\n",
    "    unique_words_count = 0\n",
    "    total_words = sum(freq_dist.values())\n",
    "    sort_freq_words = freq_words.most_common()\n",
    "\n",
    "    for word, freq in sort_freq_words:\n",
    "        cumulative_freq += freq\n",
    "        unique_words_half.append(word)\n",
    "        unique_words_count += 1\n",
    "        \n",
    "        if cumulative_freq >= total_words / 2:\n",
    "            break\n",
    "    return cumulative_freq, unique_words_half, unique_words_count, total_words\n",
    "\n",
    "sum_freq, freq_words, freq_count, total_words = count_words(freq_dist, freq_dist)\n",
    "\n",
    "print(f\"There are a total of {total_words:,d} words in our corpus.\")\n",
    "print(f\"Half of the total words represented by {freq_count:,d} unique words.\")"
   ]
  },
  {
   "cell_type": "markdown",
   "id": "98687dfb-feaf-4280-b93f-568885f149b5",
   "metadata": {},
   "source": [
    "### 4. Identify the 200 highest frequency words in this corpus."
   ]
  },
  {
   "cell_type": "code",
   "execution_count": 16,
   "id": "415b2b4b-515e-4d53-976e-176b6b4999f8",
   "metadata": {},
   "outputs": [
    {
     "data": {
      "text/html": [
       "<div>\n",
       "<style scoped>\n",
       "    .dataframe tbody tr th:only-of-type {\n",
       "        vertical-align: middle;\n",
       "    }\n",
       "\n",
       "    .dataframe tbody tr th {\n",
       "        vertical-align: top;\n",
       "    }\n",
       "\n",
       "    .dataframe thead th {\n",
       "        text-align: right;\n",
       "    }\n",
       "</style>\n",
       "<table border=\"1\" class=\"dataframe\">\n",
       "  <thead>\n",
       "    <tr style=\"text-align: right;\">\n",
       "      <th></th>\n",
       "      <th>Word</th>\n",
       "      <th>Frequency</th>\n",
       "    </tr>\n",
       "  </thead>\n",
       "  <tbody>\n",
       "    <tr>\n",
       "      <th>30</th>\n",
       "      <td>know</td>\n",
       "      <td>187</td>\n",
       "    </tr>\n",
       "    <tr>\n",
       "      <th>1779</th>\n",
       "      <td>I'm</td>\n",
       "      <td>152</td>\n",
       "    </tr>\n",
       "    <tr>\n",
       "      <th>44</th>\n",
       "      <td>one</td>\n",
       "      <td>96</td>\n",
       "    </tr>\n",
       "    <tr>\n",
       "      <th>42</th>\n",
       "      <td>gonna</td>\n",
       "      <td>82</td>\n",
       "    </tr>\n",
       "    <tr>\n",
       "      <th>25</th>\n",
       "      <td>got</td>\n",
       "      <td>77</td>\n",
       "    </tr>\n",
       "    <tr>\n",
       "      <th>...</th>\n",
       "      <td>...</td>\n",
       "      <td>...</td>\n",
       "    </tr>\n",
       "    <tr>\n",
       "      <th>1251</th>\n",
       "      <td>use</td>\n",
       "      <td>12</td>\n",
       "    </tr>\n",
       "    <tr>\n",
       "      <th>408</th>\n",
       "      <td>Maybe</td>\n",
       "      <td>12</td>\n",
       "    </tr>\n",
       "    <tr>\n",
       "      <th>611</th>\n",
       "      <td>guess</td>\n",
       "      <td>12</td>\n",
       "    </tr>\n",
       "    <tr>\n",
       "      <th>8</th>\n",
       "      <td>morning</td>\n",
       "      <td>12</td>\n",
       "    </tr>\n",
       "    <tr>\n",
       "      <th>353</th>\n",
       "      <td>That’s</td>\n",
       "      <td>12</td>\n",
       "    </tr>\n",
       "  </tbody>\n",
       "</table>\n",
       "<p>200 rows × 2 columns</p>\n",
       "</div>"
      ],
      "text/plain": [
       "         Word  Frequency\n",
       "30       know        187\n",
       "1779      I'm        152\n",
       "44        one         96\n",
       "42      gonna         82\n",
       "25        got         77\n",
       "...       ...        ...\n",
       "1251      use         12\n",
       "408     Maybe         12\n",
       "611     guess         12\n",
       "8     morning         12\n",
       "353    That’s         12\n",
       "\n",
       "[200 rows x 2 columns]"
      ]
     },
     "execution_count": 16,
     "metadata": {},
     "output_type": "execute_result"
    }
   ],
   "source": [
    "freq_df.head(200)"
   ]
  },
  {
   "cell_type": "markdown",
   "id": "2e8d68cf-5fbf-43ab-adc2-7e26a0e1ac00",
   "metadata": {},
   "source": [
    "### 5. Create a graph that shows the relative frequency of these 200 words.\n",
    "\n",
    "We see that as we plot our frequency graph, we end up with an exponential decaying distribution starting with high values, that goes sharply down as we approach zero."
   ]
  },
  {
   "cell_type": "code",
   "execution_count": 17,
   "id": "3dd51448-9814-4e3e-a8e6-8dbd20fc868c",
   "metadata": {},
   "outputs": [
    {
     "data": {
      "image/png": "[encoded data removed]",
      "text/plain": [
       "<Figure size 2000x1200 with 1 Axes>"
      ]
     },
     "metadata": {},
     "output_type": "display_data"
    }
   ],
   "source": [
    "# Convert frequency distribution to a DataFrame\n",
    "freq_df = pd.DataFrame(freq_dist.items(), columns=['Word', 'Frequency'])\n",
    "\n",
    "# Sort by frequency\n",
    "freq_df = freq_df.sort_values(by='Frequency', ascending=False)\n",
    "\n",
    "# Visualize using Seaborn\n",
    "plt.figure(figsize=(20, 12))\n",
    "ax = sns.barplot(x='Word', y='Frequency', data=freq_df.head(200))\n",
    "plt.title(\"Top 200 Most Unique Words\")\n",
    "plt.figtext(0.1, 0.01, \"(Note: Excluding Punctuation and Stopwords)\")\n",
    "plt.xticks([])\n",
    "plt.xlabel(\"\")\n",
    "plt.show()"
   ]
  },
  {
   "cell_type": "markdown",
   "id": "9400b111-1351-4324-b939-c5d551515914",
   "metadata": {},
   "source": [
    "### 6. Does the observed relative frequency of these words follow Zipf’s law? Explain.\n",
    "\n",
    "Our previous graph confirms that we do follow Zipf's Law, which the frequency of a word in a language is inversely proportional to its rank in the frequency table. One way we can confirm this better is if we log-scale these values, we should end up with a straight line, we a negative slope.\n",
    "\n",
    "In our graph, we see that we have a relatively straight line. There is some  curvature, but not siginificant enough that it deviates far from our reference line "
   ]
  },
  {
   "cell_type": "code",
   "execution_count": 18,
   "id": "218c910e-6369-4c04-85ec-9cfa23042766",
   "metadata": {},
   "outputs": [
    {
     "data": {
      "image/png": "[encoded data removed]",
      "text/plain": [
       "<Figure size 1000x600 with 1 Axes>"
      ]
     },
     "metadata": {},
     "output_type": "display_data"
    }
   ],
   "source": [
    "freq_df['Rank'] = freq_df['Frequency'].rank(method='first', ascending=False)\n",
    "\n",
    "x_min, x_max = freq_df['Rank'].min(), freq_df['Rank'].max()\n",
    "y_max, y_min = freq_df['Frequency'].max(), 1  \n",
    "\n",
    "plt.figure(figsize=(10, 6))\n",
    "sns.lineplot(x='Rank', y='Frequency', data=freq_df, marker='o', color='b', label=\"Observed\")\n",
    "\n",
    "plt.plot([x_min, x_max], [y_max, y_min], linestyle=\"--\", color=\"r\", label=\"Zipf's Reference Line\")\n",
    "\n",
    "plt.xscale('log')\n",
    "plt.yscale('log')\n",
    "\n",
    "plt.title(\"Zipf's Law Distribution of Word Frequencies\")\n",
    "plt.xlabel(\"Rank (log scale)\")\n",
    "plt.ylabel(\"Frequency (log scale)\")\n",
    "plt.legend()\n",
    "plt.show()\n",
    "\n"
   ]
  },
  {
   "cell_type": "markdown",
   "id": "6ef7f83d-2375-43fc-a318-27bf4630292e",
   "metadata": {},
   "source": [
    "### 7. In what ways do you think the frequency of the words in this corpus differ from “all words in all corpora.”\n",
    "\n",
    "Our courpus can differ vastly from all the words in all corpora. This is because of a variety of factors such as:\n",
    "\n",
    "- **Cutural/Geographical Differences**\n",
    "    - Our movies are quite a small subset of all movie genres, let alone different types of work across the world. This means we are missing words like slang or phrases that are commonly said within certain communities.\n",
    "- **Genres of Text**\n",
    "    - When we look at corpus text, the writing structure can be different where academic research corpus are more rigid and structured with possible scientific phrases and domain knowledge as opposed to works such as poetry or Shakespearean books. Furthermore, corpus can also include simple things such as reviews for a product that are more opinionated with verbiage such as love, hate and avoid."
   ]
  },
  {
   "cell_type": "code",
   "execution_count": null,
   "id": "db24e1af-8ac9-4d14-88de-6d8cb1c3fa91",
   "metadata": {},
   "outputs": [],
   "source": []
  }
 ],
 "metadata": {
  "kernelspec": {
   "display_name": ".venv",
   "language": "python",
   "name": ".venv"
  },
  "language_info": {
   "codemirror_mode": {
    "name": "ipython",
    "version": 3
   },
   "file_extension": ".py",
   "mimetype": "text/x-python",
   "name": "python",
   "nbconvert_exporter": "python",
   "pygments_lexer": "ipython3",
   "version": "3.9.6"
  }
 },
 "nbformat": 4,
 "nbformat_minor": 5
}
