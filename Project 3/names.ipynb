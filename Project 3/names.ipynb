{
 "cells": [
  {
   "cell_type": "markdown",
   "id": "c095da29-4391-4a11-9ea0-3d45bf7bc1f4",
   "metadata": {},
   "source": [
    "# Project 3\n",
    "\n",
    "Using any of the three classifiers described in chapter 6 of Natural Language Processing with Python, and any features you can think of, build the best name gender classifier you can. Begin by splitting the Names Corpus into three subsets: 500 words for the test set, 500 words for the dev-test set, and the remaining 6900 words for the training set. Then, starting with the example name gender classifier, make incremental improvements. Use the dev-test set to check your progress. Once you are satisfied with your classifier, check its final performance on the test set.\n",
    "\n",
    "How does the performance on the test set compare to the performance on the dev-test set? Is this what you'd expect?\n",
    "\n",
    "Source: Natural Language Processing with Python, exercise 6.10.2."
   ]
  },
  {
   "cell_type": "markdown",
   "id": "f5849802-b9d2-47c1-acc6-caee1f660091",
   "metadata": {},
   "source": [
    "## Required Packages"
   ]
  },
  {
   "cell_type": "code",
   "execution_count": 75,
   "id": "69eede10-cff1-4786-9419-b390ae090d4c",
   "metadata": {},
   "outputs": [],
   "source": [
    "import pandas as pd\n",
    "import numpy as np\n",
    "import matplotlib.pyplot as plt\n",
    "from matplotlib.ticker import FuncFormatter\n",
    "import seaborn as sns\n",
    "import nltk\n",
    "from sklearn.utils import shuffle"
   ]
  },
  {
   "cell_type": "markdown",
   "id": "9f13e181-f7f9-4324-aeb4-6507adced992",
   "metadata": {},
   "source": [
    "## Load Names Corpus Dataset "
   ]
  },
  {
   "cell_type": "code",
   "execution_count": 48,
   "id": "86564f6d-3ace-4d7b-8ff1-6ceeb79a159a",
   "metadata": {},
   "outputs": [
    {
     "data": {
      "text/plain": [
       "['female.txt', 'male.txt']"
      ]
     },
     "execution_count": 48,
     "metadata": {},
     "output_type": "execute_result"
    }
   ],
   "source": [
    "files = nltk.corpus.names.fileids()\n",
    "files"
   ]
  },
  {
   "cell_type": "markdown",
   "id": "ada0fcdc-0a3f-448e-b7b1-056b1d8534e7",
   "metadata": {},
   "source": [
    "## Merge both text files into one DataFrame"
   ]
  },
  {
   "cell_type": "code",
   "execution_count": 49,
   "id": "122c6218-eb23-4fe0-8e4f-71726e936dc9",
   "metadata": {},
   "outputs": [],
   "source": [
    "names_df = pd.DataFrame(columns=['name', 'gender'])\n",
    "\n",
    "for file in files:\n",
    "    name, extension = file.split('.')\n",
    "    temp_df = pd.DataFrame({'name':nltk.corpus.names.words(file), 'gender':name})\n",
    "    names_df = pd.concat([names_df, temp_df])"
   ]
  },
  {
   "cell_type": "code",
   "execution_count": 50,
   "id": "f191665b-b6e2-48e2-bba1-2eeb0c1071b4",
   "metadata": {},
   "outputs": [
    {
     "data": {
      "text/html": [
       "<div>\n",
       "<style scoped>\n",
       "    .dataframe tbody tr th:only-of-type {\n",
       "        vertical-align: middle;\n",
       "    }\n",
       "\n",
       "    .dataframe tbody tr th {\n",
       "        vertical-align: top;\n",
       "    }\n",
       "\n",
       "    .dataframe thead th {\n",
       "        text-align: right;\n",
       "    }\n",
       "</style>\n",
       "<table border=\"1\" class=\"dataframe\">\n",
       "  <thead>\n",
       "    <tr style=\"text-align: right;\">\n",
       "      <th></th>\n",
       "      <th>name</th>\n",
       "      <th>gender</th>\n",
       "    </tr>\n",
       "  </thead>\n",
       "  <tbody>\n",
       "    <tr>\n",
       "      <th>0</th>\n",
       "      <td>Abagael</td>\n",
       "      <td>female</td>\n",
       "    </tr>\n",
       "    <tr>\n",
       "      <th>1</th>\n",
       "      <td>Abagail</td>\n",
       "      <td>female</td>\n",
       "    </tr>\n",
       "    <tr>\n",
       "      <th>2</th>\n",
       "      <td>Abbe</td>\n",
       "      <td>female</td>\n",
       "    </tr>\n",
       "    <tr>\n",
       "      <th>3</th>\n",
       "      <td>Abbey</td>\n",
       "      <td>female</td>\n",
       "    </tr>\n",
       "    <tr>\n",
       "      <th>4</th>\n",
       "      <td>Abbi</td>\n",
       "      <td>female</td>\n",
       "    </tr>\n",
       "    <tr>\n",
       "      <th>...</th>\n",
       "      <td>...</td>\n",
       "      <td>...</td>\n",
       "    </tr>\n",
       "    <tr>\n",
       "      <th>2938</th>\n",
       "      <td>Zeus</td>\n",
       "      <td>male</td>\n",
       "    </tr>\n",
       "    <tr>\n",
       "      <th>2939</th>\n",
       "      <td>Zippy</td>\n",
       "      <td>male</td>\n",
       "    </tr>\n",
       "    <tr>\n",
       "      <th>2940</th>\n",
       "      <td>Zollie</td>\n",
       "      <td>male</td>\n",
       "    </tr>\n",
       "    <tr>\n",
       "      <th>2941</th>\n",
       "      <td>Zolly</td>\n",
       "      <td>male</td>\n",
       "    </tr>\n",
       "    <tr>\n",
       "      <th>2942</th>\n",
       "      <td>Zorro</td>\n",
       "      <td>male</td>\n",
       "    </tr>\n",
       "  </tbody>\n",
       "</table>\n",
       "<p>7944 rows × 2 columns</p>\n",
       "</div>"
      ],
      "text/plain": [
       "         name  gender\n",
       "0     Abagael  female\n",
       "1     Abagail  female\n",
       "2        Abbe  female\n",
       "3       Abbey  female\n",
       "4        Abbi  female\n",
       "...       ...     ...\n",
       "2938     Zeus    male\n",
       "2939    Zippy    male\n",
       "2940   Zollie    male\n",
       "2941    Zolly    male\n",
       "2942    Zorro    male\n",
       "\n",
       "[7944 rows x 2 columns]"
      ]
     },
     "execution_count": 50,
     "metadata": {},
     "output_type": "execute_result"
    }
   ],
   "source": [
    "names_df"
   ]
  },
  {
   "cell_type": "markdown",
   "id": "d42b5440-54bf-4773-9827-4c9c9edf10d6",
   "metadata": {},
   "source": [
    "## Create Training, Dev-Test and Testing Set"
   ]
  },
  {
   "cell_type": "code",
   "execution_count": 78,
   "id": "bae20a3b-bc1f-4933-8de4-4e61672359bd",
   "metadata": {},
   "outputs": [
    {
     "name": "stdout",
     "output_type": "stream",
     "text": [
      "Train Set:  6944\n",
      "Dev-Test Set:  500\n",
      "Test Set:  500\n"
     ]
    }
   ],
   "source": [
    "df_shuffled = shuffle(names_df, random_state=123)\n",
    "\n",
    "train_set = df_shuffled.iloc[:len(names_df)-1000]  \n",
    "dev_test_set = df_shuffled.iloc[500:1000]\n",
    "test_set = df_shuffled.tail(500)\n",
    "\n",
    "print(\"Train Set: \", len(train_set))\n",
    "print(\"Dev-Test Set: \", len(dev_test_set))\n",
    "print(\"Test Set: \", len(test_set))"
   ]
  },
  {
   "cell_type": "markdown",
   "id": "86037959-b114-4f24-a827-cc3028ce15f8",
   "metadata": {},
   "source": [
    "## Exploratory Data Analysis"
   ]
  },
  {
   "cell_type": "markdown",
   "id": "64b12ce3-9a6b-4043-a153-85a45b090e74",
   "metadata": {},
   "source": [
    "### Total Names by Gender"
   ]
  },
  {
   "cell_type": "code",
   "execution_count": 51,
   "id": "83da4278-3b3c-4e8a-83e9-aebdf729b330",
   "metadata": {},
   "outputs": [
    {
     "data": {
      "image/png": "[encoded data removed]",
      "text/plain": [
       "<Figure size 600x400 with 1 Axes>"
      ]
     },
     "metadata": {},
     "output_type": "display_data"
    }
   ],
   "source": [
    "plt.figure(figsize=(6, 4))\n",
    "ax = sns.countplot(data=names_df, x='gender', hue='gender')\n",
    "\n",
    "for p in ax.patches:\n",
    "    ax.annotate(f'{int(p.get_height())}', \n",
    "                (p.get_x() + p.get_width() / 2., p.get_height() - 0.1),  # Slightly below the top\n",
    "                ha='center', va='top', fontsize=12, color='white', fontweight='bold')\n",
    "\n",
    "\n",
    "plt.title('Gender Names Count')\n",
    "plt.ylabel('')\n",
    "plt.show()"
   ]
  },
  {
   "cell_type": "markdown",
   "id": "57b2d45e-5f14-4efa-b9c2-4c86e52fce09",
   "metadata": {},
   "source": [
    "## Create Gender Features"
   ]
  },
  {
   "cell_type": "code",
   "execution_count": 52,
   "id": "934defd7-9a01-48c5-9bf8-91fc88d9e722",
   "metadata": {},
   "outputs": [],
   "source": [
    "names_df['name'] = names_df['name'].str.lower()\n",
    "\n",
    "names_df['first_letter'] = names_df['name'].str[0]\n",
    "names_df['last_letter'] = names_df['name'].str[-1]\n",
    "names_df['first_two_letters'] = names_df['name'].str[:2]\n",
    "names_df['last_two_letters'] = names_df['name'].str[-2:]\n",
    "names_df['name_length'] = names_df['name'].str.len()\n",
    "\n",
    "def count_vowels(name):\n",
    "    return sum(1 for char in name.lower() if char in 'aeiou')\n",
    "names_df['vowel_count'] = names_df['name'].apply(count_vowels)"
   ]
  },
  {
   "cell_type": "code",
   "execution_count": 53,
   "id": "00561377-d22d-4328-8bf1-7d011b444f7a",
   "metadata": {},
   "outputs": [
    {
     "data": {
      "text/html": [
       "<div>\n",
       "<style scoped>\n",
       "    .dataframe tbody tr th:only-of-type {\n",
       "        vertical-align: middle;\n",
       "    }\n",
       "\n",
       "    .dataframe tbody tr th {\n",
       "        vertical-align: top;\n",
       "    }\n",
       "\n",
       "    .dataframe thead th {\n",
       "        text-align: right;\n",
       "    }\n",
       "</style>\n",
       "<table border=\"1\" class=\"dataframe\">\n",
       "  <thead>\n",
       "    <tr style=\"text-align: right;\">\n",
       "      <th></th>\n",
       "      <th>name</th>\n",
       "      <th>gender</th>\n",
       "      <th>first_letter</th>\n",
       "      <th>last_letter</th>\n",
       "      <th>first_two_letters</th>\n",
       "      <th>last_two_letters</th>\n",
       "      <th>name_length</th>\n",
       "      <th>vowel_count</th>\n",
       "    </tr>\n",
       "  </thead>\n",
       "  <tbody>\n",
       "    <tr>\n",
       "      <th>0</th>\n",
       "      <td>abagael</td>\n",
       "      <td>female</td>\n",
       "      <td>a</td>\n",
       "      <td>l</td>\n",
       "      <td>ab</td>\n",
       "      <td>el</td>\n",
       "      <td>7</td>\n",
       "      <td>4</td>\n",
       "    </tr>\n",
       "    <tr>\n",
       "      <th>1</th>\n",
       "      <td>abagail</td>\n",
       "      <td>female</td>\n",
       "      <td>a</td>\n",
       "      <td>l</td>\n",
       "      <td>ab</td>\n",
       "      <td>il</td>\n",
       "      <td>7</td>\n",
       "      <td>4</td>\n",
       "    </tr>\n",
       "    <tr>\n",
       "      <th>2</th>\n",
       "      <td>abbe</td>\n",
       "      <td>female</td>\n",
       "      <td>a</td>\n",
       "      <td>e</td>\n",
       "      <td>ab</td>\n",
       "      <td>be</td>\n",
       "      <td>4</td>\n",
       "      <td>2</td>\n",
       "    </tr>\n",
       "    <tr>\n",
       "      <th>3</th>\n",
       "      <td>abbey</td>\n",
       "      <td>female</td>\n",
       "      <td>a</td>\n",
       "      <td>y</td>\n",
       "      <td>ab</td>\n",
       "      <td>ey</td>\n",
       "      <td>5</td>\n",
       "      <td>2</td>\n",
       "    </tr>\n",
       "    <tr>\n",
       "      <th>4</th>\n",
       "      <td>abbi</td>\n",
       "      <td>female</td>\n",
       "      <td>a</td>\n",
       "      <td>i</td>\n",
       "      <td>ab</td>\n",
       "      <td>bi</td>\n",
       "      <td>4</td>\n",
       "      <td>2</td>\n",
       "    </tr>\n",
       "    <tr>\n",
       "      <th>...</th>\n",
       "      <td>...</td>\n",
       "      <td>...</td>\n",
       "      <td>...</td>\n",
       "      <td>...</td>\n",
       "      <td>...</td>\n",
       "      <td>...</td>\n",
       "      <td>...</td>\n",
       "      <td>...</td>\n",
       "    </tr>\n",
       "    <tr>\n",
       "      <th>2938</th>\n",
       "      <td>zeus</td>\n",
       "      <td>male</td>\n",
       "      <td>z</td>\n",
       "      <td>s</td>\n",
       "      <td>ze</td>\n",
       "      <td>us</td>\n",
       "      <td>4</td>\n",
       "      <td>2</td>\n",
       "    </tr>\n",
       "    <tr>\n",
       "      <th>2939</th>\n",
       "      <td>zippy</td>\n",
       "      <td>male</td>\n",
       "      <td>z</td>\n",
       "      <td>y</td>\n",
       "      <td>zi</td>\n",
       "      <td>py</td>\n",
       "      <td>5</td>\n",
       "      <td>1</td>\n",
       "    </tr>\n",
       "    <tr>\n",
       "      <th>2940</th>\n",
       "      <td>zollie</td>\n",
       "      <td>male</td>\n",
       "      <td>z</td>\n",
       "      <td>e</td>\n",
       "      <td>zo</td>\n",
       "      <td>ie</td>\n",
       "      <td>6</td>\n",
       "      <td>3</td>\n",
       "    </tr>\n",
       "    <tr>\n",
       "      <th>2941</th>\n",
       "      <td>zolly</td>\n",
       "      <td>male</td>\n",
       "      <td>z</td>\n",
       "      <td>y</td>\n",
       "      <td>zo</td>\n",
       "      <td>ly</td>\n",
       "      <td>5</td>\n",
       "      <td>1</td>\n",
       "    </tr>\n",
       "    <tr>\n",
       "      <th>2942</th>\n",
       "      <td>zorro</td>\n",
       "      <td>male</td>\n",
       "      <td>z</td>\n",
       "      <td>o</td>\n",
       "      <td>zo</td>\n",
       "      <td>ro</td>\n",
       "      <td>5</td>\n",
       "      <td>2</td>\n",
       "    </tr>\n",
       "  </tbody>\n",
       "</table>\n",
       "<p>7944 rows × 8 columns</p>\n",
       "</div>"
      ],
      "text/plain": [
       "         name  gender first_letter last_letter first_two_letters  \\\n",
       "0     abagael  female            a           l                ab   \n",
       "1     abagail  female            a           l                ab   \n",
       "2        abbe  female            a           e                ab   \n",
       "3       abbey  female            a           y                ab   \n",
       "4        abbi  female            a           i                ab   \n",
       "...       ...     ...          ...         ...               ...   \n",
       "2938     zeus    male            z           s                ze   \n",
       "2939    zippy    male            z           y                zi   \n",
       "2940   zollie    male            z           e                zo   \n",
       "2941    zolly    male            z           y                zo   \n",
       "2942    zorro    male            z           o                zo   \n",
       "\n",
       "     last_two_letters  name_length  vowel_count  \n",
       "0                  el            7            4  \n",
       "1                  il            7            4  \n",
       "2                  be            4            2  \n",
       "3                  ey            5            2  \n",
       "4                  bi            4            2  \n",
       "...               ...          ...          ...  \n",
       "2938               us            4            2  \n",
       "2939               py            5            1  \n",
       "2940               ie            6            3  \n",
       "2941               ly            5            1  \n",
       "2942               ro            5            2  \n",
       "\n",
       "[7944 rows x 8 columns]"
      ]
     },
     "execution_count": 53,
     "metadata": {},
     "output_type": "execute_result"
    }
   ],
   "source": [
    "names_df"
   ]
  },
  {
   "cell_type": "markdown",
   "id": "ae6f0498-8482-4e12-80c7-6975843d8392",
   "metadata": {},
   "source": [
    "### Relative Frequency of First Letter by Gender"
   ]
  },
  {
   "cell_type": "code",
   "execution_count": 54,
   "id": "c9ffe578-b94a-48f5-b429-5d80b2b0218e",
   "metadata": {},
   "outputs": [
    {
     "data": {
      "image/png": "[encoded data removed]",
      "text/plain": [
       "<Figure size 800x500 with 1 Axes>"
      ]
     },
     "metadata": {},
     "output_type": "display_data"
    }
   ],
   "source": [
    "gender_counts = names_df.groupby(['gender', 'first_letter']).size().reset_index(name='count')\n",
    "gender_totals = gender_counts.groupby('gender')['count'].transform('sum')\n",
    "gender_counts['relative_frequency'] = gender_counts['count'] / gender_totals * 100\n",
    "\n",
    "plt.figure(figsize=(8, 5))\n",
    "ax = sns.barplot(x='first_letter', y='relative_frequency', hue='gender', data=gender_counts)\n",
    "ax.yaxis.set_major_formatter(FuncFormatter(lambda y, _: f'{y:.0f}%'))\n",
    "\n",
    "plt.title('Relative Frequency of First Letter by Gender')\n",
    "plt.xlabel('')\n",
    "plt.ylabel('')\n",
    "plt.legend(title='Gender')\n",
    "plt.show()"
   ]
  },
  {
   "cell_type": "markdown",
   "id": "4742f1f6-968a-4f2c-bc6a-54345e58261f",
   "metadata": {},
   "source": [
    "### Relative Frequency of Last Letter by Gender"
   ]
  },
  {
   "cell_type": "code",
   "execution_count": 68,
   "id": "9d480def-efa4-42b8-a4b9-98a3762525d1",
   "metadata": {},
   "outputs": [
    {
     "data": {
      "image/png": "[encoded data removed]",
      "text/plain": [
       "<Figure size 800x500 with 1 Axes>"
      ]
     },
     "metadata": {},
     "output_type": "display_data"
    }
   ],
   "source": [
    "gender_counts = names_df.groupby(['gender', 'last_letter']).size().reset_index(name='count')\n",
    "gender_totals = gender_counts.groupby('gender')['count'].transform('sum')\n",
    "gender_counts['relative_frequency'] = gender_counts['count'] / gender_totals * 100\n",
    "\n",
    "plt.figure(figsize=(8, 5))\n",
    "ax = sns.barplot(x='last_letter', y='relative_frequency', hue='gender', data=gender_counts)\n",
    "ax.yaxis.set_major_formatter(FuncFormatter(lambda y, _: f'{y:.0f}%'))\n",
    "\n",
    "plt.title('Relative Frequency of Last Letter by Gender')\n",
    "plt.xlabel('')\n",
    "plt.ylabel('')\n",
    "plt.legend(title='Gender')\n",
    "plt.show()"
   ]
  },
  {
   "cell_type": "markdown",
   "id": "8d4227fe-ea7f-445f-a85e-5d8ed4a00b4b",
   "metadata": {},
   "source": [
    "### Relative Frequency of Name Length by Gender"
   ]
  },
  {
   "cell_type": "code",
   "execution_count": 71,
   "id": "15cef148-6906-47f1-a59e-c7525a85a601",
   "metadata": {},
   "outputs": [
    {
     "data": {
      "image/png": "[encoded data removed]",
      "text/plain": [
       "<Figure size 800x500 with 1 Axes>"
      ]
     },
     "metadata": {},
     "output_type": "display_data"
    }
   ],
   "source": [
    "gender_counts = names_df.groupby(['gender', 'name_length']).size().reset_index(name='count')\n",
    "gender_totals = gender_counts.groupby('gender')['count'].transform('sum')\n",
    "gender_counts['relative_frequency'] = gender_counts['count'] / gender_totals * 100\n",
    "\n",
    "plt.figure(figsize=(8, 5))\n",
    "ax = sns.barplot(x='name_length', y='relative_frequency', hue='gender', data=gender_counts)\n",
    "ax.yaxis.set_major_formatter(FuncFormatter(lambda y, _: f'{y:.0f}%'))\n",
    "\n",
    "plt.title('Relative Frequency of Name Length by Gender')\n",
    "plt.xlabel('')\n",
    "plt.ylabel('')\n",
    "plt.legend(title='Gender')\n",
    "plt.show()"
   ]
  },
  {
   "cell_type": "markdown",
   "id": "c2cc48d5-e82c-4d21-b9d7-a883d791c2d2",
   "metadata": {},
   "source": [
    "### Relative Frequency of Vowel Count by Gender"
   ]
  },
  {
   "cell_type": "code",
   "execution_count": 72,
   "id": "c7e8c20b-9704-48b6-874a-970aac2485dc",
   "metadata": {},
   "outputs": [
    {
     "data": {
      "image/png": "[encoded data removed]",
      "text/plain": [
       "<Figure size 800x500 with 1 Axes>"
      ]
     },
     "metadata": {},
     "output_type": "display_data"
    }
   ],
   "source": [
    "gender_counts = names_df.groupby(['gender', 'vowel_count']).size().reset_index(name='count')\n",
    "gender_totals = gender_counts.groupby('gender')['count'].transform('sum')\n",
    "gender_counts['relative_frequency'] = gender_counts['count'] / gender_totals * 100\n",
    "\n",
    "plt.figure(figsize=(8, 5))\n",
    "ax = sns.barplot(x='vowel_count', y='relative_frequency', hue='gender', data=gender_counts)\n",
    "ax.yaxis.set_major_formatter(FuncFormatter(lambda y, _: f'{y:.0f}%'))\n",
    "\n",
    "plt.title('Relative Frequency of Vowel Count by Gender')\n",
    "plt.xlabel('')\n",
    "plt.ylabel('')\n",
    "plt.legend(title='Gender')\n",
    "plt.show()"
   ]
  },
  {
   "cell_type": "code",
   "execution_count": null,
   "id": "65f0f70a-13ea-4243-b4eb-72bba38da71b",
   "metadata": {},
   "outputs": [],
   "source": []
  },
  {
   "cell_type": "code",
   "execution_count": null,
   "id": "92689cf5-87a2-4c36-9814-40b57f6f826e",
   "metadata": {},
   "outputs": [],
   "source": []
  },
  {
   "cell_type": "code",
   "execution_count": null,
   "id": "c3945e56-2d0c-4924-9ba8-576278f13b97",
   "metadata": {},
   "outputs": [],
   "source": []
  },
  {
   "cell_type": "code",
   "execution_count": null,
   "id": "836953da-f98f-40e4-acf1-a67745ad9b8e",
   "metadata": {},
   "outputs": [],
   "source": []
  },
  {
   "cell_type": "code",
   "execution_count": null,
   "id": "8d172c53-4287-4215-8b13-c5df2a0af15d",
   "metadata": {},
   "outputs": [],
   "source": []
  },
  {
   "cell_type": "code",
   "execution_count": null,
   "id": "61d0b30a-8cf7-48ec-bcfb-2b159b0faf28",
   "metadata": {},
   "outputs": [],
   "source": []
  }
 ],
 "metadata": {
  "kernelspec": {
   "display_name": ".venv",
   "language": "python",
   "name": ".venv"
  },
  "language_info": {
   "codemirror_mode": {
    "name": "ipython",
    "version": 3
   },
   "file_extension": ".py",
   "mimetype": "text/x-python",
   "name": "python",
   "nbconvert_exporter": "python",
   "pygments_lexer": "ipython3",
   "version": "3.9.6"
  }
 },
 "nbformat": 4,
 "nbformat_minor": 5
}
