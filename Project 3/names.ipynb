{
 "cells": [
  {
   "cell_type": "markdown",
   "id": "c095da29-4391-4a11-9ea0-3d45bf7bc1f4",
   "metadata": {},
   "source": [
    "# Project 3\n",
    "\n",
    "Using any of the three classifiers described in chapter 6 of Natural Language Processing with Python, and any features you can think of, build the best name gender classifier you can. Begin by splitting the Names Corpus into three subsets: 500 words for the test set, 500 words for the dev-test set, and the remaining 6900 words for the training set. Then, starting with the example name gender classifier, make incremental improvements. Use the dev-test set to check your progress. Once you are satisfied with your classifier, check its final performance on the test set.\n",
    "\n",
    "How does the performance on the test set compare to the performance on the dev-test set? Is this what you'd expect?\n",
    "\n",
    "Source: Natural Language Processing with Python, exercise 6.10.2."
   ]
  },
  {
   "cell_type": "markdown",
   "id": "f5849802-b9d2-47c1-acc6-caee1f660091",
   "metadata": {},
   "source": [
    "## Required Packages"
   ]
  },
  {
   "cell_type": "code",
   "execution_count": 1,
   "id": "69eede10-cff1-4786-9419-b390ae090d4c",
   "metadata": {},
   "outputs": [],
   "source": [
    "import pandas as pd\n",
    "import numpy as np\n",
    "import matplotlib.pyplot as plt\n",
    "import seaborn as sns\n",
    "import nltk"
   ]
  },
  {
   "cell_type": "markdown",
   "id": "9f13e181-f7f9-4324-aeb4-6507adced992",
   "metadata": {},
   "source": [
    "## Load Names Corpus Dataset "
   ]
  },
  {
   "cell_type": "code",
   "execution_count": 29,
   "id": "86564f6d-3ace-4d7b-8ff1-6ceeb79a159a",
   "metadata": {},
   "outputs": [
    {
     "data": {
      "text/plain": [
       "['female.txt', 'male.txt']"
      ]
     },
     "execution_count": 29,
     "metadata": {},
     "output_type": "execute_result"
    }
   ],
   "source": [
    "files = nltk.corpus.names.fileids()\n",
    "files"
   ]
  },
  {
   "cell_type": "markdown",
   "id": "ada0fcdc-0a3f-448e-b7b1-056b1d8534e7",
   "metadata": {},
   "source": [
    "## Merge both text files into one DataFrame"
   ]
  },
  {
   "cell_type": "code",
   "execution_count": 52,
   "id": "122c6218-eb23-4fe0-8e4f-71726e936dc9",
   "metadata": {},
   "outputs": [],
   "source": [
    "names_df = pd.DataFrame(columns=['name', 'gender'])\n",
    "\n",
    "for file in files:\n",
    "    name, extension = file.split('.')\n",
    "    temp_df = pd.DataFrame({'name':names.words(file), 'gender':name})\n",
    "    names_df = pd.concat([names_df, temp_df])"
   ]
  },
  {
   "cell_type": "code",
   "execution_count": 53,
   "id": "f191665b-b6e2-48e2-bba1-2eeb0c1071b4",
   "metadata": {},
   "outputs": [
    {
     "data": {
      "text/html": [
       "<div>\n",
       "<style scoped>\n",
       "    .dataframe tbody tr th:only-of-type {\n",
       "        vertical-align: middle;\n",
       "    }\n",
       "\n",
       "    .dataframe tbody tr th {\n",
       "        vertical-align: top;\n",
       "    }\n",
       "\n",
       "    .dataframe thead th {\n",
       "        text-align: right;\n",
       "    }\n",
       "</style>\n",
       "<table border=\"1\" class=\"dataframe\">\n",
       "  <thead>\n",
       "    <tr style=\"text-align: right;\">\n",
       "      <th></th>\n",
       "      <th>name</th>\n",
       "      <th>gender</th>\n",
       "    </tr>\n",
       "  </thead>\n",
       "  <tbody>\n",
       "    <tr>\n",
       "      <th>0</th>\n",
       "      <td>Abagael</td>\n",
       "      <td>female</td>\n",
       "    </tr>\n",
       "    <tr>\n",
       "      <th>1</th>\n",
       "      <td>Abagail</td>\n",
       "      <td>female</td>\n",
       "    </tr>\n",
       "    <tr>\n",
       "      <th>2</th>\n",
       "      <td>Abbe</td>\n",
       "      <td>female</td>\n",
       "    </tr>\n",
       "    <tr>\n",
       "      <th>3</th>\n",
       "      <td>Abbey</td>\n",
       "      <td>female</td>\n",
       "    </tr>\n",
       "    <tr>\n",
       "      <th>4</th>\n",
       "      <td>Abbi</td>\n",
       "      <td>female</td>\n",
       "    </tr>\n",
       "    <tr>\n",
       "      <th>...</th>\n",
       "      <td>...</td>\n",
       "      <td>...</td>\n",
       "    </tr>\n",
       "    <tr>\n",
       "      <th>2938</th>\n",
       "      <td>Zeus</td>\n",
       "      <td>male</td>\n",
       "    </tr>\n",
       "    <tr>\n",
       "      <th>2939</th>\n",
       "      <td>Zippy</td>\n",
       "      <td>male</td>\n",
       "    </tr>\n",
       "    <tr>\n",
       "      <th>2940</th>\n",
       "      <td>Zollie</td>\n",
       "      <td>male</td>\n",
       "    </tr>\n",
       "    <tr>\n",
       "      <th>2941</th>\n",
       "      <td>Zolly</td>\n",
       "      <td>male</td>\n",
       "    </tr>\n",
       "    <tr>\n",
       "      <th>2942</th>\n",
       "      <td>Zorro</td>\n",
       "      <td>male</td>\n",
       "    </tr>\n",
       "  </tbody>\n",
       "</table>\n",
       "<p>7944 rows × 2 columns</p>\n",
       "</div>"
      ],
      "text/plain": [
       "         name  gender\n",
       "0     Abagael  female\n",
       "1     Abagail  female\n",
       "2        Abbe  female\n",
       "3       Abbey  female\n",
       "4        Abbi  female\n",
       "...       ...     ...\n",
       "2938     Zeus    male\n",
       "2939    Zippy    male\n",
       "2940   Zollie    male\n",
       "2941    Zolly    male\n",
       "2942    Zorro    male\n",
       "\n",
       "[7944 rows x 2 columns]"
      ]
     },
     "execution_count": 53,
     "metadata": {},
     "output_type": "execute_result"
    }
   ],
   "source": [
    "names_df"
   ]
  },
  {
   "cell_type": "markdown",
   "id": "86037959-b114-4f24-a827-cc3028ce15f8",
   "metadata": {},
   "source": [
    "## Exploratory Data Analysis"
   ]
  },
  {
   "cell_type": "code",
   "execution_count": null,
   "id": "83da4278-3b3c-4e8a-83e9-aebdf729b330",
   "metadata": {},
   "outputs": [],
   "source": []
  },
  {
   "cell_type": "markdown",
   "id": "57b2d45e-5f14-4efa-b9c2-4c86e52fce09",
   "metadata": {},
   "source": [
    "## Create Gender Features"
   ]
  },
  {
   "cell_type": "code",
   "execution_count": null,
   "id": "440c291a-d86d-4569-8f37-63a7ea335a76",
   "metadata": {},
   "outputs": [],
   "source": [
    "def gender_features(name):\n",
    "        \"last_letter\": names[-1],  # Last letter of the name\n",
    "        \"first_letter\": names[0],  # First letter of the name\n",
    "        \"last_two\": names[-2:],  # Last two letters\n",
    "        \"first_two\": names[:2],  # First two letters\n",
    "        \"name_length\": len(names),  # Length of the name\n",
    "        \"vowel_count\": sum(1 for char in names.lower() if char in \"aeiou\")  # Number of vowels"
   ]
  },
  {
   "cell_type": "code",
   "execution_count": 18,
   "id": "b00bf38f-fdbf-4101-8d11-f51297f8eec7",
   "metadata": {},
   "outputs": [],
   "source": []
  },
  {
   "cell_type": "code",
   "execution_count": null,
   "id": "00561377-d22d-4328-8bf1-7d011b444f7a",
   "metadata": {},
   "outputs": [],
   "source": []
  },
  {
   "cell_type": "code",
   "execution_count": null,
   "id": "c9ffe578-b94a-48f5-b429-5d80b2b0218e",
   "metadata": {},
   "outputs": [],
   "source": []
  },
  {
   "cell_type": "code",
   "execution_count": null,
   "id": "555a4394-1a5a-4e60-a6da-956f8b4a6b11",
   "metadata": {},
   "outputs": [],
   "source": []
  },
  {
   "cell_type": "code",
   "execution_count": null,
   "id": "1d8b384b-413e-4c6e-839e-e098e7e7b3ce",
   "metadata": {},
   "outputs": [],
   "source": []
  },
  {
   "cell_type": "code",
   "execution_count": null,
   "id": "836953da-f98f-40e4-acf1-a67745ad9b8e",
   "metadata": {},
   "outputs": [],
   "source": []
  },
  {
   "cell_type": "code",
   "execution_count": null,
   "id": "8d172c53-4287-4215-8b13-c5df2a0af15d",
   "metadata": {},
   "outputs": [],
   "source": []
  },
  {
   "cell_type": "code",
   "execution_count": null,
   "id": "61d0b30a-8cf7-48ec-bcfb-2b159b0faf28",
   "metadata": {},
   "outputs": [],
   "source": []
  }
 ],
 "metadata": {
  "kernelspec": {
   "display_name": ".venv",
   "language": "python",
   "name": ".venv"
  },
  "language_info": {
   "codemirror_mode": {
    "name": "ipython",
    "version": 3
   },
   "file_extension": ".py",
   "mimetype": "text/x-python",
   "name": "python",
   "nbconvert_exporter": "python",
   "pygments_lexer": "ipython3",
   "version": "3.9.6"
  }
 },
 "nbformat": 4,
 "nbformat_minor": 5
}
