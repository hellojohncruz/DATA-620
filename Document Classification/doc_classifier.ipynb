{
 "cells": [
  {
   "cell_type": "markdown",
   "id": "df8bca12-7ef3-44af-bc85-0edaa9379fb1",
   "metadata": {},
   "source": [
    "http://archive.ics.uci.edu/dataset/94/spambase"
   ]
  },
  {
   "cell_type": "code",
   "execution_count": 1,
   "id": "c16617fe-ec1f-4682-a9e9-1f3205e597ed",
   "metadata": {},
   "outputs": [
    {
     "name": "stdout",
     "output_type": "stream",
     "text": [
      "Collecting ucimlrepo\n",
      "  Downloading ucimlrepo-0.0.7-py3-none-any.whl (8.0 kB)\n",
      "Requirement already satisfied: certifi>=2020.12.5 in /Users/johncruz/Documents/GitHub/Social-Network-Analysis/chapter2/.venv/lib/python3.9/site-packages (from ucimlrepo) (2025.1.31)\n",
      "Requirement already satisfied: pandas>=1.0.0 in /Users/johncruz/Documents/GitHub/Social-Network-Analysis/chapter2/.venv/lib/python3.9/site-packages (from ucimlrepo) (2.2.3)\n",
      "Requirement already satisfied: python-dateutil>=2.8.2 in /Users/johncruz/Documents/GitHub/Social-Network-Analysis/chapter2/.venv/lib/python3.9/site-packages (from pandas>=1.0.0->ucimlrepo) (2.9.0.post0)\n",
      "Requirement already satisfied: tzdata>=2022.7 in /Users/johncruz/Documents/GitHub/Social-Network-Analysis/chapter2/.venv/lib/python3.9/site-packages (from pandas>=1.0.0->ucimlrepo) (2025.1)\n",
      "Requirement already satisfied: pytz>=2020.1 in /Users/johncruz/Documents/GitHub/Social-Network-Analysis/chapter2/.venv/lib/python3.9/site-packages (from pandas>=1.0.0->ucimlrepo) (2025.1)\n",
      "Requirement already satisfied: numpy>=1.22.4 in /Users/johncruz/Documents/GitHub/Social-Network-Analysis/chapter2/.venv/lib/python3.9/site-packages (from pandas>=1.0.0->ucimlrepo) (2.0.2)\n",
      "Requirement already satisfied: six>=1.5 in /Users/johncruz/Documents/GitHub/Social-Network-Analysis/chapter2/.venv/lib/python3.9/site-packages (from python-dateutil>=2.8.2->pandas>=1.0.0->ucimlrepo) (1.17.0)\n",
      "Installing collected packages: ucimlrepo\n",
      "Successfully installed ucimlrepo-0.0.7\n",
      "\u001b[33mWARNING: You are using pip version 21.2.4; however, version 25.0.1 is available.\n",
      "You should consider upgrading via the '/Users/johncruz/Documents/GitHub/Social-Network-Analysis/chapter2/.venv/bin/python -m pip install --upgrade pip' command.\u001b[0m\n",
      "Note: you may need to restart the kernel to use updated packages.\n"
     ]
    }
   ],
   "source": [
    "pip install ucimlrepo"
   ]
  },
  {
   "cell_type": "code",
   "execution_count": 1,
   "id": "f8855086-6300-4700-b8a9-07f081fd0f05",
   "metadata": {},
   "outputs": [],
   "source": []
  },
  {
   "cell_type": "code",
   "execution_count": 16,
   "id": "2bca35aa-3027-4061-89df-1a2ec7531067",
   "metadata": {},
   "outputs": [
    {
     "name": "stderr",
     "output_type": "stream",
     "text": [
      "/Users/johncruz/Documents/GitHub/Social-Network-Analysis/chapter2/.venv/lib/python3.9/site-packages/sklearn/utils/validation.py:1408: DataConversionWarning: A column-vector y was passed when a 1d array was expected. Please change the shape of y to (n_samples, ), for example using ravel().\n",
      "  y = column_or_1d(y, warn=True)\n"
     ]
    },
    {
     "name": "stdout",
     "output_type": "stream",
     "text": [
      "Top 15 selected features: ['word_freq_our', 'word_freq_remove', 'word_freq_free', 'word_freq_business', 'word_freq_you', 'word_freq_your', 'word_freq_000', 'word_freq_money', 'word_freq_hp', 'word_freq_george', 'char_freq_!', 'char_freq_$', 'capital_run_length_average', 'capital_run_length_longest', 'capital_run_length_total']\n",
      "\n",
      "[Logistic Regression] Accuracy: 0.912\n",
      "              precision    recall  f1-score   support\n",
      "\n",
      "           0       0.91      0.95      0.93       303\n",
      "           1       0.91      0.86      0.88       197\n",
      "\n",
      "    accuracy                           0.91       500\n",
      "   macro avg       0.91      0.90      0.91       500\n",
      "weighted avg       0.91      0.91      0.91       500\n",
      "\n"
     ]
    },
    {
     "name": "stderr",
     "output_type": "stream",
     "text": [
      "/Users/johncruz/Documents/GitHub/Social-Network-Analysis/chapter2/.venv/lib/python3.9/site-packages/sklearn/utils/validation.py:1408: DataConversionWarning: A column-vector y was passed when a 1d array was expected. Please change the shape of y to (n_samples, ), for example using ravel().\n",
      "  y = column_or_1d(y, warn=True)\n",
      "/Users/johncruz/Documents/GitHub/Social-Network-Analysis/chapter2/.venv/lib/python3.9/site-packages/sklearn/linear_model/_linear_loss.py:200: RuntimeWarning: divide by zero encountered in matmul\n",
      "  raw_prediction = X @ weights + intercept\n",
      "/Users/johncruz/Documents/GitHub/Social-Network-Analysis/chapter2/.venv/lib/python3.9/site-packages/sklearn/linear_model/_linear_loss.py:200: RuntimeWarning: overflow encountered in matmul\n",
      "  raw_prediction = X @ weights + intercept\n",
      "/Users/johncruz/Documents/GitHub/Social-Network-Analysis/chapter2/.venv/lib/python3.9/site-packages/sklearn/linear_model/_linear_loss.py:200: RuntimeWarning: invalid value encountered in matmul\n",
      "  raw_prediction = X @ weights + intercept\n",
      "/Users/johncruz/Documents/GitHub/Social-Network-Analysis/chapter2/.venv/lib/python3.9/site-packages/sklearn/linear_model/_linear_loss.py:330: RuntimeWarning: divide by zero encountered in matmul\n",
      "  grad[:n_features] = X.T @ grad_pointwise + l2_reg_strength * weights\n",
      "/Users/johncruz/Documents/GitHub/Social-Network-Analysis/chapter2/.venv/lib/python3.9/site-packages/sklearn/linear_model/_linear_loss.py:330: RuntimeWarning: overflow encountered in matmul\n",
      "  grad[:n_features] = X.T @ grad_pointwise + l2_reg_strength * weights\n",
      "/Users/johncruz/Documents/GitHub/Social-Network-Analysis/chapter2/.venv/lib/python3.9/site-packages/sklearn/linear_model/_linear_loss.py:330: RuntimeWarning: invalid value encountered in matmul\n",
      "  grad[:n_features] = X.T @ grad_pointwise + l2_reg_strength * weights\n",
      "/Users/johncruz/Documents/GitHub/Social-Network-Analysis/chapter2/.venv/lib/python3.9/site-packages/sklearn/linear_model/_logistic.py:465: ConvergenceWarning: lbfgs failed to converge (status=1):\n",
      "STOP: TOTAL NO. of ITERATIONS REACHED LIMIT.\n",
      "\n",
      "Increase the number of iterations (max_iter) or scale the data as shown in:\n",
      "    https://scikit-learn.org/stable/modules/preprocessing.html\n",
      "Please also refer to the documentation for alternative solver options:\n",
      "    https://scikit-learn.org/stable/modules/linear_model.html#logistic-regression\n",
      "  n_iter_i = _check_optimize_result(\n",
      "/Users/johncruz/Documents/GitHub/Social-Network-Analysis/chapter2/.venv/lib/python3.9/site-packages/sklearn/utils/extmath.py:203: RuntimeWarning: divide by zero encountered in matmul\n",
      "  ret = a @ b\n",
      "/Users/johncruz/Documents/GitHub/Social-Network-Analysis/chapter2/.venv/lib/python3.9/site-packages/sklearn/utils/extmath.py:203: RuntimeWarning: overflow encountered in matmul\n",
      "  ret = a @ b\n",
      "/Users/johncruz/Documents/GitHub/Social-Network-Analysis/chapter2/.venv/lib/python3.9/site-packages/sklearn/utils/extmath.py:203: RuntimeWarning: invalid value encountered in matmul\n",
      "  ret = a @ b\n",
      "/Users/johncruz/Documents/GitHub/Social-Network-Analysis/chapter2/.venv/lib/python3.9/site-packages/sklearn/base.py:1389: DataConversionWarning: A column-vector y was passed when a 1d array was expected. Please change the shape of y to (n_samples,), for example using ravel().\n",
      "  return fit_method(estimator, *args, **kwargs)\n"
     ]
    },
    {
     "name": "stdout",
     "output_type": "stream",
     "text": [
      "\n",
      "[Random Forest] Accuracy: 0.932\n",
      "              precision    recall  f1-score   support\n",
      "\n",
      "           0       0.93      0.96      0.94       303\n",
      "           1       0.94      0.88      0.91       197\n",
      "\n",
      "    accuracy                           0.93       500\n",
      "   macro avg       0.93      0.92      0.93       500\n",
      "weighted avg       0.93      0.93      0.93       500\n",
      "\n",
      "\n",
      "[Random Forest] Top features by importance:\n",
      "char_freq_!                   0.155395\n",
      "char_freq_$                   0.127511\n",
      "word_freq_remove              0.103672\n",
      "word_freq_free                0.088415\n",
      "word_freq_your                0.083711\n",
      "capital_run_length_average    0.082801\n",
      "capital_run_length_longest    0.070179\n",
      "word_freq_hp                  0.059033\n",
      "capital_run_length_total      0.055645\n",
      "word_freq_money               0.038467\n",
      "word_freq_you                 0.037312\n",
      "word_freq_our                 0.032642\n",
      "word_freq_george              0.026135\n",
      "word_freq_000                 0.024779\n",
      "word_freq_business            0.014303\n",
      "dtype: float64\n",
      "\n",
      "[Naive Bayes - NLTK] Accuracy: 0.87\n",
      "              precision    recall  f1-score   support\n",
      "\n",
      "           0       0.85      0.96      0.90       303\n",
      "           1       0.92      0.73      0.82       197\n",
      "\n",
      "    accuracy                           0.87       500\n",
      "   macro avg       0.88      0.85      0.86       500\n",
      "weighted avg       0.88      0.87      0.87       500\n",
      "\n",
      "Most Informative Features\n",
      "          word_freq_free = np.float64(0.32)      1 : 0      =     28.4 : 1.0\n",
      "capital_run_length_longest = np.float64(54.0)      1 : 0      =     27.4 : 1.0\n",
      "         word_freq_money = np.float64(0.08)      1 : 0      =     22.7 : 1.0\n",
      "      word_freq_business = np.float64(0.32)      1 : 0      =     22.6 : 1.0\n",
      "capital_run_length_total = np.float64(9.0)      0 : 1      =     22.3 : 1.0\n",
      "capital_run_length_average = np.float64(1.0)      0 : 1      =     19.3 : 1.0\n",
      "capital_run_length_total = np.float64(6.0)      0 : 1      =     19.1 : 1.0\n",
      "           word_freq_000 = np.float64(0.34)      1 : 0      =     18.6 : 1.0\n",
      "        word_freq_remove = np.float64(0.32)      1 : 0      =     18.6 : 1.0\n",
      "         word_freq_money = np.float64(0.09)      1 : 0      =     17.7 : 1.0\n"
     ]
    }
   ],
   "source": [
    "import pandas as pd\n",
    "import numpy as np\n",
    "from sklearn.ensemble import RandomForestClassifier\n",
    "from sklearn.linear_model import LogisticRegression\n",
    "from sklearn.metrics import accuracy_score, classification_report\n",
    "from sklearn.feature_selection import SelectKBest, mutual_info_classif\n",
    "from sklearn.model_selection import train_test_split\n",
    "from nltk.classify import NaiveBayesClassifier\n",
    "from nltk.classify.util import accuracy as nltk_accuracy\n",
    "import nltk\n",
    "\n",
    "from ucimlrepo import fetch_ucirepo \n",
    "  \n",
    "# fetch dataset \n",
    "spambase = fetch_ucirepo(id=94) \n",
    "  \n",
    "# data (as pandas dataframes) \n",
    "X = spambase.data.features \n",
    "y = spambase.data.targets \n",
    "\n",
    "\n",
    "# Split dataset\n",
    "X_temp, X_test, y_temp, y_test = train_test_split(X, y, test_size=500, stratify=y, random_state=42)\n",
    "X_train, X_devtest, y_train, y_devtest = train_test_split(X_temp, y_temp, test_size=500, stratify=y_temp, random_state=42)\n",
    "\n",
    "# Feature Selection\n",
    "selector = SelectKBest(mutual_info_classif, k=15)\n",
    "X_train_sel = selector.fit_transform(X_train, y_train)\n",
    "X_devtest_sel = selector.transform(X_devtest)\n",
    "X_test_sel = selector.transform(X_test)\n",
    "top_features = X_train.columns[selector.get_support()].tolist()\n",
    "print(\"Top 15 selected features:\", top_features)\n",
    "\n",
    "# --- Scikit Logistic Regression ---\n",
    "lr = LogisticRegression(max_iter=1000)\n",
    "lr.fit(X_train_sel, y_train)\n",
    "pred_lr = lr.predict(X_test_sel)\n",
    "print(\"\\n[Logistic Regression] Accuracy:\", accuracy_score(y_test, pred_lr))\n",
    "print(classification_report(y_test, pred_lr))\n",
    "\n",
    "# --- Random Forest ---\n",
    "rf = RandomForestClassifier(n_estimators=100, random_state=42)\n",
    "rf.fit(X_train_sel, y_train)\n",
    "pred_rf = rf.predict(X_test_sel)\n",
    "print(\"\\n[Random Forest] Accuracy:\", accuracy_score(y_test, pred_rf))\n",
    "print(classification_report(y_test, pred_rf))\n",
    "\n",
    "# Feature Importance\n",
    "importances = pd.Series(rf.feature_importances_, index=top_features)\n",
    "print(\"\\n[Random Forest] Top features by importance:\")\n",
    "print(importances.sort_values(ascending=False))\n",
    "\n",
    "# --- NLTK Naive Bayes ---\n",
    "# Convert selected features into dictionaries (format required by NLTK)\n",
    "def to_nltk_format(X_df):\n",
    "    return [dict(zip(X_df.columns, row)) for row in X_df.values]\n",
    "\n",
    "# Get the selected features only\n",
    "X_train_nltk = X_train[top_features]\n",
    "X_devtest_nltk = X_devtest[top_features]\n",
    "X_test_nltk = X_test[top_features]\n",
    "\n",
    "# Convert to nltk format\n",
    "train_set = list(zip(to_nltk_format(X_train_nltk), y_train.values.ravel()))\n",
    "devtest_set = list(zip(to_nltk_format(X_devtest_nltk), y_devtest.values.ravel()))\n",
    "test_set = list(zip(to_nltk_format(X_test_nltk), y_test.values.ravel()))\n",
    "\n",
    "# Train the Naive Bayes classifier\n",
    "nltk_nb = NaiveBayesClassifier.train(train_set)\n",
    "\n",
    "# Evaluate on test set\n",
    "print(\"\\n[Naive Bayes - NLTK] Accuracy:\", nltk_accuracy(nltk_nb, test_set))\n",
    "\n",
    "# Classification report for NLTK Naive Bayes\n",
    "pred_nb = [nltk_nb.classify(fs) for fs, _ in test_set]\n",
    "print(classification_report(y_test, pred_nb))\n",
    "\n",
    "# Show the most informative features\n",
    "nltk_nb.show_most_informative_features(10)"
   ]
  },
  {
   "cell_type": "code",
   "execution_count": 18,
   "id": "789b47d5-926c-408e-8ef8-3c90efe6aff2",
   "metadata": {},
   "outputs": [
    {
     "data": {
      "image/png": "[encoded data removed]",
      "text/plain": [
       "<Figure size 800x500 with 1 Axes>"
      ]
     },
     "metadata": {},
     "output_type": "display_data"
    }
   ],
   "source": [
    "# Collect accuracies\n",
    "accuracies = {\n",
    "    \"Logistic Regression\": accuracy_score(y_test, pred_lr),\n",
    "    \"Random Forest\": accuracy_score(y_test, pred_rf),\n",
    "    \"Naive Bayes (NLTK)\": nltk_accuracy(nltk_nb, test_set),\n",
    "}\n",
    "\n",
    "# Plot\n",
    "plt.figure(figsize=(8, 5))\n",
    "plt.bar(accuracies.keys(), accuracies.values(), color=['skyblue', 'seagreen', 'salmon'])\n",
    "plt.ylabel(\"Accuracy\")\n",
    "plt.ylim(0.8, 1.0)\n",
    "plt.title(\"Model Accuracy Comparison\")\n",
    "for i, (name, acc) in enumerate(accuracies.items()):\n",
    "    plt.text(i, acc + 0.005, f\"{acc:.3f}\", ha='center', fontsize=10)\n",
    "plt.tight_layout()\n",
    "plt.show()\n"
   ]
  },
  {
   "cell_type": "code",
   "execution_count": null,
   "id": "21e901e6-8872-4b08-87eb-72833fd1ec1f",
   "metadata": {},
   "outputs": [],
   "source": []
  },
  {
   "cell_type": "code",
   "execution_count": null,
   "id": "db625fd8-9ba6-453e-99e0-3dd1f8f0033f",
   "metadata": {},
   "outputs": [],
   "source": []
  },
  {
   "cell_type": "code",
   "execution_count": null,
   "id": "49911a0d-0fd6-499d-ac47-c3c3a547873a",
   "metadata": {},
   "outputs": [],
   "source": []
  },
  {
   "cell_type": "code",
   "execution_count": null,
   "id": "2daa72bd-e332-47c9-a46b-4ad761ffe2f1",
   "metadata": {},
   "outputs": [],
   "source": []
  },
  {
   "cell_type": "code",
   "execution_count": null,
   "id": "83974a2c-6253-49b7-a7ef-8b87b2dfe8e1",
   "metadata": {},
   "outputs": [],
   "source": []
  },
  {
   "cell_type": "code",
   "execution_count": null,
   "id": "6a7c8396-caf6-42ce-a4e9-8c581e57797d",
   "metadata": {},
   "outputs": [],
   "source": []
  },
  {
   "cell_type": "code",
   "execution_count": null,
   "id": "fd6bf68d-1721-4cd3-85b6-030a80f42a5f",
   "metadata": {},
   "outputs": [],
   "source": []
  },
  {
   "cell_type": "code",
   "execution_count": null,
   "id": "98096d2f-0472-4e6e-93de-75e152b2efdc",
   "metadata": {},
   "outputs": [],
   "source": []
  }
 ],
 "metadata": {
  "kernelspec": {
   "display_name": ".venv",
   "language": "python",
   "name": ".venv"
  },
  "language_info": {
   "codemirror_mode": {
    "name": "ipython",
    "version": 3
   },
   "file_extension": ".py",
   "mimetype": "text/x-python",
   "name": "python",
   "nbconvert_exporter": "python",
   "pygments_lexer": "ipython3",
   "version": "3.9.6"
  }
 },
 "nbformat": 4,
 "nbformat_minor": 5
}
