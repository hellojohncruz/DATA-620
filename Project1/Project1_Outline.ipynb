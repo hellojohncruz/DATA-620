{
 "cells": [
  {
   "cell_type": "markdown",
   "id": "4c58a0b2-2e99-420b-a9db-d489a198dba8",
   "metadata": {},
   "source": [
    "# Project 1: Centrality Measures\n",
    "\n",
    "Centrality measures can be used to predict (positive or negative) outcomes for a node.\n",
    "\n",
    "Your task in this week’s assignment is to identify an interesting set of network data that is available on the web (either through web scraping or web APIs) that could be used for analyzing and comparing centrality measures across nodes.  As an additional constraint, there should be at least one categorical variable available for each node (such as “Male” or “Female”; “Republican”, “Democrat,” or “Undecided”, etc.)\n",
    "\n",
    "In addition to identifying your data source, you should create a high level plan that describes how you would load the data for analysis, and describe a hypothetical outcome that could be predicted from comparing degree centrality across categorical groups. "
   ]
  },
  {
   "cell_type": "markdown",
   "id": "f4d7a4ca-208f-4855-928d-2a0c259fad69",
   "metadata": {},
   "source": [
    "## Project Proposal\n",
    "\n",
    "This project will be utilizing NYC Yellow Taxi rides within the NYC region. The data provided gives us information such as the trip's pickup and dropoff locations, cost of the trips, payment methods used and passenger counts. The goal will be to transform the trip's locations as nodes and its edges are traveled to. For categorical variables, using the payment methods such as cash and credit card will be of interest to see if there is a difference between these types of trips. \n",
    "\n",
    "The data is stored in parquet files that need to be brought into our notebook via pandas and data prepped to remove trips containing missing values. I believe that there will be a difference of which nodes are most important within each network of payment methods. Utilizing credit cards, longer distance nodes such as trips bewteen the city and airports will probably showcase the airport nodes as most important. With cash, I beleive nodes staying within the city such as Times Square would be more important as these trips would be shorter distances and paying with cash instead. "
   ]
  },
  {
   "cell_type": "markdown",
   "id": "c8603aad-8b2c-4a60-9a9f-f4fc3aa4bc9e",
   "metadata": {},
   "source": [
    "### [Data Source](https://www.nyc.gov/site/tlc/about/tlc-trip-record-data.page)"
   ]
  },
  {
   "cell_type": "code",
   "execution_count": null,
   "id": "bf5b245e-dcbe-42af-ba0a-00ee265805bc",
   "metadata": {},
   "outputs": [],
   "source": []
  }
 ],
 "metadata": {
  "kernelspec": {
   "display_name": ".venv",
   "language": "python",
   "name": ".venv"
  },
  "language_info": {
   "codemirror_mode": {
    "name": "ipython",
    "version": 3
   },
   "file_extension": ".py",
   "mimetype": "text/x-python",
   "name": "python",
   "nbconvert_exporter": "python",
   "pygments_lexer": "ipython3",
   "version": "3.9.6"
  }
 },
 "nbformat": 4,
 "nbformat_minor": 5
}
