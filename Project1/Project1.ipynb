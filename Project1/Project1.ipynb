{
 "cells": [
  {
   "cell_type": "markdown",
   "id": "b92ac4c6-5f53-4050-90f3-1d56bcb8c8e8",
   "metadata": {},
   "source": [
    "# NYC Yellow Taxi Trips\n",
    "\n",
    "The New York City Taxi & Limousine Commission provides data on trips taken via yellow, green, and for-hire vehicles such as Uber and Lyft. This project focuses on the Yellow Taxi industry. The data is stored in parquet files and will be read into pandas for data manipulation. The goal of this project is to analyze how the industry's network of trips (edges) flows throughout the city based on pickup and dropoff locations (nodes). Utilizing centrality measures such as degree and eigenvector centrality, we aim to identify potential differences in trip patterns based on payment methods, specifically cash versus credit card.\n",
    "\n",
    "Our hypothesis is that the most important nodes will differ depending on the payment method. For credit card transactions, longer-distance trips, such as those between the city and airports, will likely highlight airport nodes as the most important. For cash transactions, intra-city trips such as those between Times Square and Wall Street—will be more significant, as these trips tend to be shorter, making cash payments more convenient.\n",
    "\n",
    "It is important to note that the records being used will **only be for January 2024** due to the size of each data file. Also, a data dictionary of what each column represents can be found [here](https://www.nyc.gov/assets/tlc/downloads/pdf/data_dictionary_trip_records_yellow.pdf)"
   ]
  },
  {
   "cell_type": "markdown",
   "id": "668f7017-9d67-4402-9f62-13b7ea4d5b50",
   "metadata": {},
   "source": [
    "## Import Packages"
   ]
  },
  {
   "cell_type": "code",
   "execution_count": null,
   "id": "ea65b9a0-3a2c-4148-8303-2293f4894e46",
   "metadata": {},
   "outputs": [],
   "source": [
    "import pandas as pd\n",
    "import numpy as np\n",
    "import matplotlib.pyplot as plt\n",
    "import seaborn as sns\n",
    "import networkx as nx\n",
    "import random"
   ]
  },
  {
   "cell_type": "markdown",
   "id": "37caf6b4-7aac-4b49-be89-d37780e597a9",
   "metadata": {},
   "source": [
    "## Import Trips Data\n",
    "\n",
    "We can see we have a lot of data that needs to be parsed down for this network analysis. The most important features will be pickup location(**PULocationID**), dropoff location (**DOLocationID**) and payment type (**payment_type**)"
   ]
  },
  {
   "cell_type": "code",
   "execution_count": null,
   "id": "39cc7cef-b4ea-4556-ac91-ac1c3cac78e0",
   "metadata": {},
   "outputs": [],
   "source": [
    "trips_df = pd.read_parquet('yellow_tripdata_2024-01.parquet')"
   ]
  },
  {
   "cell_type": "code",
   "execution_count": null,
   "id": "cb1a7d2b-d1a4-43fd-989b-a07c62d0da2b",
   "metadata": {},
   "outputs": [],
   "source": [
    "trips_df.head()"
   ]
  },
  {
   "cell_type": "markdown",
   "id": "e7d4bcea-a882-4ff7-9ee4-b57a3fa9eaf1",
   "metadata": {},
   "source": [
    "## Import Location Data\n",
    "We also have each locationID and what borough and zone it represents. "
   ]
  },
  {
   "cell_type": "code",
   "execution_count": null,
   "id": "25728b8e-f896-4889-ba60-134eaca6e69c",
   "metadata": {},
   "outputs": [],
   "source": [
    "location_df = pd.read_csv('taxi_zone_lookup.csv')\n",
    "location_df = location_df.drop(columns='service_zone')\n",
    "location_df.head()"
   ]
  },
  {
   "cell_type": "markdown",
   "id": "8629a8d0-bf89-4322-a0e9-31a0c35f1f41",
   "metadata": {},
   "source": [
    "## Data Exploration"
   ]
  },
  {
   "cell_type": "markdown",
   "id": "d7c355eb-bbb2-4b35-a3db-d640d37fbba6",
   "metadata": {},
   "source": [
    "### Missing Values\n",
    "\n",
    "We can see that some columns have missing values such as passenger counts, ratecodeID and airport_fee. Fortunately these columns are not of importance in this analysis."
   ]
  },
  {
   "cell_type": "code",
   "execution_count": null,
   "id": "66910d4d-bda1-44cb-a7fa-d4e9aa19bf80",
   "metadata": {},
   "outputs": [],
   "source": [
    "trips_df.isna().sum()"
   ]
  },
  {
   "cell_type": "markdown",
   "id": "8af97ccd-d519-4e62-b702-61c2d356add5",
   "metadata": {},
   "source": [
    "### Total Trips\n",
    "\n",
    "We have a total of almost 3 million trips taken. We can also see that pickup location **node 132** has the highest amount of trips being picked up from."
   ]
  },
  {
   "cell_type": "code",
   "execution_count": null,
   "id": "bd5fce1b-0f5a-4e5b-9661-2a7b6ad554bf",
   "metadata": {},
   "outputs": [],
   "source": [
    "trips_df['PULocationID'].count()"
   ]
  },
  {
   "cell_type": "code",
   "execution_count": null,
   "id": "c0cfa370-eb7a-43c7-9ca7-00cb2c212511",
   "metadata": {},
   "outputs": [],
   "source": [
    "top_pickup_trips = trips_df.groupby('PULocationID')['DOLocationID'].agg(total_trips = 'count').reset_index(drop=False).sort_values(by='total_trips', ascending=False)\n",
    "top_pickup_trips"
   ]
  },
  {
   "cell_type": "markdown",
   "id": "0d4abc5e-c2bd-40f6-b0b2-ec92331da7c0",
   "metadata": {},
   "source": [
    "To have some more clarity of the top 10 trips being picked up from, we will join our location data with it. \n",
    "\n",
    "Not surprisingly, JFK Airport has the highest amount of trips being picked up from. However, NYC's other airport, LaGuardia Aiport, falls down to 8th place with Manhattan's Midtown Center coming in 2nd instead. Some reasoning behind this is given how central of a hub Midtown is to all of NYC but definitely raises questions if it is truly as important in the network."
   ]
  },
  {
   "cell_type": "code",
   "execution_count": null,
   "id": "08bb2a6f-58c8-49a4-bab8-a541b965a91f",
   "metadata": {},
   "outputs": [],
   "source": [
    "merged_df = pd.merge(top_pickup_trips, location_df, left_on='PULocationID', right_on='LocationID')\n",
    "merged_df.head(10)"
   ]
  },
  {
   "cell_type": "markdown",
   "id": "0e81fd63-00f9-45d8-b5a0-4f74419cbeba",
   "metadata": {},
   "source": [
    "Looking at the dropoff locations, we find that the Upper East Side North/South have the highest number of dropoffs in our network. This again raises the question as to which node is the most important in our network. "
   ]
  },
  {
   "cell_type": "code",
   "execution_count": null,
   "id": "797859a9-3d86-4a7a-8c52-9a7a6b0f94ce",
   "metadata": {},
   "outputs": [],
   "source": [
    "top_pickup_trips = trips_df.groupby('DOLocationID')['PULocationID'].agg(total_trips = 'count').reset_index(drop=False).sort_values(by='total_trips', ascending=False)\n",
    "merged_df = pd.merge(top_pickup_trips, location_df, left_on='DOLocationID', right_on='LocationID')\n",
    "merged_df.head(10)"
   ]
  },
  {
   "cell_type": "markdown",
   "id": "2a3f99b3-5ca1-4eaf-a066-b3a2ebce7852",
   "metadata": {},
   "source": [
    "### Payment Methods\n",
    "\n",
    "We discover that most trips payment method is 1 (**Credit Card**), with over 2.3 million transactions, followed by 2 (**Cash**) payments of under 0.5 millions transactions. We also see there are other categories such as 3 (**No Charge**) and 4 (**Dispute**). Given the constraints of our analysis, trips not ending with a credit card or cash transaction will be removed."
   ]
  },
  {
   "cell_type": "code",
   "execution_count": null,
   "id": "2a22b716-c6da-4974-8b0c-4b59ce65fc17",
   "metadata": {},
   "outputs": [],
   "source": [
    "payment_trips = trips_df.groupby('payment_type')['payment_type'].agg(total = 'count').reset_index(drop=False).sort_values(by='total', ascending=False)\n",
    "payment_trips"
   ]
  },
  {
   "cell_type": "markdown",
   "id": "13659766-ed16-4a37-b570-85ff6e17a1e6",
   "metadata": {},
   "source": [
    "## Data Wrangling\n",
    "\n",
    "We will remove trips that did not end with a credit card or cash transaction. Also, columns not needed in this analysis will be dropped as well."
   ]
  },
  {
   "cell_type": "code",
   "execution_count": null,
   "id": "7149a558-2f4c-4f0a-b5ed-5eecb5851cef",
   "metadata": {},
   "outputs": [],
   "source": [
    "drop_columns = ['VendorID', 'tpep_pickup_datetime', 'tpep_dropoff_datetime', 'passenger_count', 'trip_distance', \n",
    "                'RatecodeID', 'store_and_fwd_flag', 'fare_amount', 'extra', 'mta_tax', 'tip_amount',\n",
    "               'tolls_amount', 'improvement_surcharge', 'total_amount', 'congestion_surcharge', 'Airport_fee']\n",
    "drop_trips_df = trips_df[trips_df['payment_type'].isin([1, 2])].drop(columns=drop_columns)\n",
    "drop_trips_df.head()"
   ]
  },
  {
   "cell_type": "markdown",
   "id": "3cda806f-76d0-4043-a36a-db97d317160d",
   "metadata": {},
   "source": [
    "Next, we will replace our numeric payment type to its appropriate string value"
   ]
  },
  {
   "cell_type": "code",
   "execution_count": null,
   "id": "528e50a4-408f-4032-a8ba-82ec3ea42d1f",
   "metadata": {},
   "outputs": [],
   "source": [
    "drop_trips_df['payment_type'] = drop_trips_df['payment_type'].apply(lambda x: 'Credit Card' if x==1 else 'Cash')\n",
    "drop_trips_df.head()"
   ]
  },
  {
   "cell_type": "markdown",
   "id": "05151d88-f9c5-4a9d-aeb4-926dac0fbf21",
   "metadata": {},
   "source": [
    "Let's add a column developing trip counts based on a pickup to dropoff location and its payment type. This will be important later on as we will use it as a weight in our network. "
   ]
  },
  {
   "cell_type": "code",
   "execution_count": null,
   "id": "58e23fce-f342-4bfa-906b-5a3cfba97971",
   "metadata": {},
   "outputs": [],
   "source": [
    "drop_trips_df['trip_count'] = 1\n",
    "cleaned_trips_df = drop_trips_df.groupby(['PULocationID', 'DOLocationID', 'payment_type'])['trip_count'].agg('count').reset_index()\n",
    "cleaned_trips_df.head()"
   ]
  },
  {
   "cell_type": "markdown",
   "id": "03fc5862-ac9d-46fa-977d-7b8bf579c099",
   "metadata": {},
   "source": [
    "## Yellow Taxi Trips (Credit Card)\n",
    "\n",
    "We will begin our first network graph setup with credit card transactions. We are looking to measure a network's most important nodes using both degree and eigenvector centrality. The graph will be a directed, weighted graph using **trip_counts** as its weights and the direction of a **PULocationID** to **DOLocationID** trip. "
   ]
  },
  {
   "cell_type": "code",
   "execution_count": null,
   "id": "3abd7d6a-d0e5-433f-bf17-9fa785f06fd4",
   "metadata": {},
   "outputs": [],
   "source": [
    "cc_trips = cleaned_trips_df[cleaned_trips_df['payment_type'] == 'Credit Card']\n",
    "cc_trips.head()"
   ]
  },
  {
   "cell_type": "markdown",
   "id": "833fcc6c-35a1-496c-9ca9-d14d2d96c394",
   "metadata": {},
   "source": [
    "Most of our nodes are centralized in the center, with a few of them outside of it, probably seen as  outliers as few trips occur between itself and other places. "
   ]
  },
  {
   "cell_type": "code",
   "execution_count": null,
   "id": "4b510bd0-8b34-429c-8b6d-d7a7393fceff",
   "metadata": {},
   "outputs": [],
   "source": [
    "G_credit = nx.from_pandas_edgelist(cc_trips, source='PULocationID', target='DOLocationID', \n",
    "                            edge_attr='trip_count', create_using=nx.DiGraph())\n",
    "\n",
    "pos = nx.spring_layout(G_credit, seed=123)  \n",
    "\n",
    "fig, ax = plt.subplots(figsize=(30, 18))\n",
    "\n",
    "nx.draw_networkx_nodes(G_credit, pos, node_size=300, node_color=\"skyblue\")\n",
    "nx.draw_networkx_edges(G_credit, pos, width=0.15)\n",
    "nx.draw_networkx_labels(G_credit, pos, font_size=8, font_weight=\"bold\")\n",
    "\n",
    "plt.title(\"NYC Credit Card Taxi Trips Network (Directed, Weighted)\")\n",
    "plt.show()"
   ]
  },
  {
   "cell_type": "markdown",
   "id": "36c8100c-44cb-4ee0-b85c-cd3aaebd0689",
   "metadata": {},
   "source": [
    "### Degree Centrality\n",
    "\n",
    "Looking at the node with the highest degree centrality, we find that **node 140** is the most important node by this measure and it had 402 edges connected to it. "
   ]
  },
  {
   "cell_type": "code",
   "execution_count": null,
   "id": "9f5a0208-17b4-40a5-8c6b-4ea1be37455d",
   "metadata": {},
   "outputs": [],
   "source": [
    "top_degree_centrality = max(nx.degree_centrality(G_credit), key=nx.degree_centrality(G_credit).get)\n",
    "print(f\"Highest Degree Centrality: {top_degree_centrality}\")\n",
    "print(\"Number of Edges:\", G_credit.degree(132))"
   ]
  },
  {
   "cell_type": "markdown",
   "id": "26563b3b-5933-415d-90ff-21afcac6914e",
   "metadata": {},
   "source": [
    "We can see that **node 140** lies around the central cluster of nodes in our graph"
   ]
  },
  {
   "cell_type": "code",
   "execution_count": null,
   "id": "fc68f1ea-6c75-441d-b6af-354ca088f06e",
   "metadata": {},
   "outputs": [],
   "source": [
    "pos = nx.spring_layout(G_credit, seed=123)  \n",
    "\n",
    "fig, ax = plt.subplots(figsize=(30, 18))\n",
    "\n",
    "nx.draw(G_credit, pos, with_labels=True, node_color=\"lightgray\", edge_color=\"gray\", node_size=300, font_size=10)\n",
    "\n",
    "nx.draw_networkx_nodes(G_credit, pos, nodelist=[top_degree_centrality], node_color=\"red\", node_size=600)\n",
    "\n",
    "plt.title(f\"Top Node (Degree Centrality): {top_degree_centrality}\")\n",
    "plt.axis('off')\n",
    "plt.show()"
   ]
  },
  {
   "cell_type": "code",
   "execution_count": null,
   "id": "f2d1157f-b297-4fda-926e-4226663eb52b",
   "metadata": {},
   "outputs": [],
   "source": [
    "top_cc_trips = cc_trips.copy()\n",
    "top_cc_trips = top_cc_trips[(top_cc_trips['PULocationID']==140) | (top_cc_trips['DOLocationID']==140)]"
   ]
  },
  {
   "cell_type": "markdown",
   "id": "512bde21-8a10-4aaf-8938-89d4de70099e",
   "metadata": {},
   "source": [
    "As for the top 10 trip counts within **node 140**, this zone is called Lennox Hill East, and has most of its rides going to/from zones Upper East Side North/South and Yorkville East/West. "
   ]
  },
  {
   "cell_type": "code",
   "execution_count": null,
   "id": "8d15dc14-c030-4773-8620-4452d075c804",
   "metadata": {},
   "outputs": [],
   "source": [
    "top_10 = top_cc_trips.sort_values(by='trip_count', ascending=False).head(10)\n",
    "top_10 = top_10.merge(location_df, left_on='PULocationID', right_on='LocationID', \n",
    "             how='left').rename(columns={'Borough':'PU_Borough', 'Zone':'PU_Zone'}).drop(columns=['LocationID'])\n",
    "top_10.merge(location_df, left_on='DOLocationID', right_on='LocationID', \n",
    "             how='left').rename(columns={'Borough':'DO_Borough', 'Zone':'DO_Zone'}).drop(columns=['LocationID'])"
   ]
  },
  {
   "cell_type": "markdown",
   "id": "6f00ed5b-e481-4a0a-add8-a9568a5c825f",
   "metadata": {},
   "source": [
    "### Eigenvector Centrality\n",
    "\n",
    "Looking at the node with the highest eigenvector centrality, we find that **node 236** is the most important node by this measure and it has 339 edges connected to it. However, **Node 237** closely follows in its eigenvector score before we have a steep drop off from the next node. "
   ]
  },
  {
   "cell_type": "code",
   "execution_count": null,
   "id": "7afdc6fd-4585-46c3-881c-68a65ee70bcb",
   "metadata": {},
   "outputs": [],
   "source": [
    "sorted_eigenvector = sorted(nx.eigenvector_centrality(G_credit, weight='trip_count', max_iter=1000).items(), key=lambda x: x[1], reverse=True)\n",
    "\n",
    "for node, centrality in sorted_eigenvector[:5]:\n",
    "    print(f\"Node {node}: {centrality}\")\n",
    "    print(\"Number of Edges:\", G.degree(node))\n",
    "    print(\"------\")"
   ]
  },
  {
   "cell_type": "markdown",
   "id": "8e5ff841-b1d2-416e-8afc-b1b868cebe3b",
   "metadata": {},
   "source": [
    "Looking deeper into our top node, we see that **node 236** is the Upper East Side North. **Node 237** is the Upper East Side South and these areas combined accounts for a majority of the trips happening in Manhattan."
   ]
  },
  {
   "cell_type": "code",
   "execution_count": null,
   "id": "645b078d-47f2-4697-abe6-044d222c8128",
   "metadata": {},
   "outputs": [],
   "source": [
    "top_cc_trips = cc_trips.copy()\n",
    "top_cc_trips = top_cc_trips[(top_cc_trips['PULocationID']==237) | (top_cc_trips['DOLocationID']==237)]\n",
    "\n",
    "top_10 = top_cc_trips.sort_values(by='trip_count', ascending=False).head(10)\n",
    "top_10 = top_10.merge(location_df, left_on='PULocationID', right_on='LocationID', \n",
    "             how='left').rename(columns={'Borough':'PU_Borough', 'Zone':'PU_Zone'}).drop(columns=['LocationID'])\n",
    "top_10.merge(location_df, left_on='DOLocationID', right_on='LocationID', \n",
    "             how='left').rename(columns={'Borough':'DO_Borough', 'Zone':'DO_Zone'}).drop(columns=['LocationID'])"
   ]
  },
  {
   "cell_type": "markdown",
   "id": "8dae1427-f6aa-423f-b433-41e0abbf508c",
   "metadata": {},
   "source": [
    "### Total Trip Counts by Location\n",
    "\n",
    "Lets look at total trip counts regardless of the direction it was taken in. This means it can be either the pickup or dropoff location. When we do, we immediately see that both **nodes 236 and 237** are the highest in total trips within our credit card network. This was a great finding as before, we solely were looking at one direction in our exploratory analysis, showing that either JFK Airport (pickups) or the Upper East Side (dropoffs) were both the highest traveled trips in our network. We can now see that it is solely the Upper East Side regions. \n",
    "\n",
    "Another note is that our top 4 regions here match our results of the eigenvector score rankings, however, it does not solely mean that if something has the highest amount of trips it will rank highly. Our 5th placed rank here is **node 162** Midtown East, while the 5th place eigenvector score was for **node 239** Upper West Side South"
   ]
  },
  {
   "cell_type": "code",
   "execution_count": null,
   "id": "d22c4ad9-9e4c-4a49-9d38-c41c12f20991",
   "metadata": {},
   "outputs": [],
   "source": [
    "locations_1 = cc_trips[['PULocationID', 'trip_count']].rename(columns={'PULocationID':'location_id'})\n",
    "locations_2 = cc_trips[['DOLocationID', 'trip_count']].rename(columns={'DOLocationID':'location_id'})\n",
    "pd.concat([locations_1, locations_2]).groupby('location_id').sum().reset_index().sort_values(by='trip_count', ascending=False).head(5)"
   ]
  },
  {
   "cell_type": "markdown",
   "id": "5bdb8f5a-6698-4073-8fa3-42d0a6b1f2fc",
   "metadata": {},
   "source": [
    "## Yellow Taxi Trips (Cash)\n",
    "\n",
    "Our second network graph setup will be looking into cash transactions. We are again looking to measure a network's most important nodes using both degree and eigenvector centrality. The graph will be a directed, weighted graph using **trip_counts** as its weights and the direction of a **PULocationID** to **DOLocationID** trip. "
   ]
  },
  {
   "cell_type": "code",
   "execution_count": null,
   "id": "d976eae1-ce62-4848-b595-b29dac2832d1",
   "metadata": {},
   "outputs": [],
   "source": [
    "cash_trips = cleaned_trips_df[cleaned_trips_df['payment_type'] == 'Cash']\n",
    "cash_trips.head()"
   ]
  },
  {
   "cell_type": "markdown",
   "id": "d8c2a6e3-101b-4332-9b97-dce8457ed3df",
   "metadata": {},
   "source": [
    "The shape of our network is once again similar to the credit card network, where a majority of our nodes are centralized, with some nodes on the outskirts of the plot, leaning more to locations not traveled as often."
   ]
  },
  {
   "cell_type": "code",
   "execution_count": null,
   "id": "630347d4-1655-4842-99c3-7f5e9ae5317a",
   "metadata": {},
   "outputs": [],
   "source": [
    "G_cash = nx.from_pandas_edgelist(cash_trips, source='PULocationID', target='DOLocationID', \n",
    "                            edge_attr='trip_count', create_using=nx.DiGraph())\n",
    "\n",
    "pos = nx.spring_layout(G_cash, seed=123)  \n",
    "\n",
    "fig, ax = plt.subplots(figsize=(30, 18))\n",
    "\n",
    "nx.draw_networkx_nodes(G_cash, pos, node_size=300, node_color=\"skyblue\")\n",
    "nx.draw_networkx_edges(G_cash, pos, width=0.15)\n",
    "nx.draw_networkx_labels(G_cash, pos, font_size=8, font_weight=\"bold\")\n",
    "\n",
    "plt.title(\"NYC Cash Taxi Trips Network (Directed, Weighted)\")\n",
    "plt.show()"
   ]
  },
  {
   "cell_type": "markdown",
   "id": "f44c22c6-17ca-4b18-bda0-5559923b5fe3",
   "metadata": {},
   "source": [
    "### Degree Centrality\n",
    "\n",
    "Looking at the node with the highest degree centrality, we find that **node 132** is the most important node by this measure and it had 380 edges connected to it. "
   ]
  },
  {
   "cell_type": "code",
   "execution_count": null,
   "id": "37d3c6f3-b5c8-4994-ad8c-a7e11be23a00",
   "metadata": {},
   "outputs": [],
   "source": [
    "top_degree_centrality = max(nx.degree_centrality(G), key=nx.degree_centrality(G).get)\n",
    "print(f\"Highest Degree Centrality: {top_degree_centrality}\")\n",
    "print(\"Number of Edges:\", G_cash.degree(132))"
   ]
  },
  {
   "cell_type": "markdown",
   "id": "7d28f4f1-5033-463c-8977-b6d3711dab56",
   "metadata": {},
   "source": [
    "Highlighting **node 132** we see it near the center of our graph"
   ]
  },
  {
   "cell_type": "code",
   "execution_count": null,
   "id": "60f62b64-5c8a-4025-8445-e8c6b5fc2dbd",
   "metadata": {},
   "outputs": [],
   "source": [
    "pos = nx.spring_layout(G_cash, seed=123)  \n",
    "\n",
    "fig, ax = plt.subplots(figsize=(30, 18))\n",
    "\n",
    "nx.draw(G_cash, pos, with_labels=True, node_color=\"lightgray\", edge_color=\"gray\", node_size=300, font_size=10)\n",
    "\n",
    "nx.draw_networkx_nodes(G_cash, pos, nodelist=[top_degree_centrality], node_color=\"red\", node_size=600)\n",
    "\n",
    "plt.title(f\"Top Node (Degree Centrality): {top_degree_centrality}\")\n",
    "plt.axis('off')\n",
    "plt.show()"
   ]
  },
  {
   "cell_type": "code",
   "execution_count": null,
   "id": "dda3f0f7-931f-40ea-bfed-6a70c339444b",
   "metadata": {},
   "outputs": [],
   "source": [
    "top_cash_trips = cash_trips.copy()\n",
    "top_cash_trips = top_cash_trips[(top_cash_trips['PULocationID']==132) | (top_cash_trips['DOLocationID']==132)]"
   ]
  },
  {
   "cell_type": "markdown",
   "id": "fa6ea6dc-d594-4282-88c1-00bcb4fdbdbe",
   "metadata": {},
   "source": [
    "Interestingly enough **node 132** is JFK Airport and most trips are being picked up from the airport."
   ]
  },
  {
   "cell_type": "code",
   "execution_count": null,
   "id": "73ea9360-6ac6-4ea3-838b-2e8a38249724",
   "metadata": {},
   "outputs": [],
   "source": [
    "top_10 = top_cash_trips.sort_values(by='trip_count', ascending=False).head(10)\n",
    "top_10 = top_10.merge(location_df, left_on='PULocationID', right_on='LocationID', \n",
    "             how='left').rename(columns={'Borough':'PU_Borough', 'Zone':'PU_Zone'}).drop(columns=['LocationID'])\n",
    "top_10.merge(location_df, left_on='DOLocationID', right_on='LocationID', \n",
    "             how='left').rename(columns={'Borough':'DO_Borough', 'Zone':'DO_Zone'}).drop(columns=['LocationID'])"
   ]
  },
  {
   "cell_type": "markdown",
   "id": "7588c63c-b3d4-4947-aed6-3b65ee95f9e8",
   "metadata": {},
   "source": [
    "### Eigenvector Centrality\n",
    "\n",
    "Looking at the node with the highest eigenvector centrality, we find that **node 237** is the most important node by this measure and it has 245 edges connected to it. Once again, **node 236** is close in score. This matches the same results with our credit card network."
   ]
  },
  {
   "cell_type": "code",
   "execution_count": null,
   "id": "e1b16b2c-07b4-4e62-a02f-4af002ec9b49",
   "metadata": {},
   "outputs": [],
   "source": [
    "sorted_eigenvector = sorted(nx.eigenvector_centrality(G_cash, weight='trip_count', max_iter=1000).items(), key=lambda x: x[1], reverse=True)\n",
    "\n",
    "for node, centrality in sorted_eigenvector[:5]:\n",
    "    print(f\"Node {node}: {centrality}\")\n",
    "    print(\"Number of Edges:\", G.degree(node))\n",
    "    print(\"------\")"
   ]
  },
  {
   "cell_type": "code",
   "execution_count": null,
   "id": "bb1ff54d-e51b-4887-9a0c-febdaecf9630",
   "metadata": {},
   "outputs": [],
   "source": [
    "top_cash_trips = cash_trips.copy()\n",
    "top_cash_trips = top_cash_trips[(top_cash_trips['PULocationID']==237) | (top_cash_trips['DOLocationID']==237)]\n",
    "\n",
    "top_10 = top_cash_trips.sort_values(by='trip_count', ascending=False).head(10)\n",
    "top_10 = top_10.merge(location_df, left_on='PULocationID', right_on='LocationID', \n",
    "             how='left').rename(columns={'Borough':'PU_Borough', 'Zone':'PU_Zone'}).drop(columns=['LocationID'])\n",
    "top_10.merge(location_df, left_on='DOLocationID', right_on='LocationID', \n",
    "             how='left').rename(columns={'Borough':'DO_Borough', 'Zone':'DO_Zone'}).drop(columns=['LocationID'])"
   ]
  },
  {
   "cell_type": "markdown",
   "id": "33c9d84e-3533-4827-bcc5-b799ec1de730",
   "metadata": {},
   "source": [
    "### Total Trip Counts by Location\n",
    "\n",
    "As we look at total trips in either direction for a node, we see JFK Airport clearly has the most trips in general, which follows our degree centrality measure"
   ]
  },
  {
   "cell_type": "code",
   "execution_count": null,
   "id": "bb7c2fa4-e67d-4260-a78e-c5338ab683ff",
   "metadata": {},
   "outputs": [],
   "source": [
    "locations_1 = cash_trips[['PULocationID', 'trip_count']].rename(columns={'PULocationID':'location_id'})\n",
    "locations_2 = cash_trips[['DOLocationID', 'trip_count']].rename(columns={'DOLocationID':'location_id'})\n",
    "pd.concat([locations_1, locations_2]).groupby('location_id').sum().reset_index().sort_values(by='trip_count', ascending=False).head(5).merge(location_df, left_on='location_id', right_on='LocationID').drop(columns=['LocationID'])"
   ]
  },
  {
   "cell_type": "markdown",
   "id": "d799312f-b5b7-4250-8d53-9b788b4498a3",
   "metadata": {},
   "source": [
    "## Conclusion\n"
   ]
  },
  {
   "cell_type": "code",
   "execution_count": null,
   "id": "5a90ac8e-1614-4c9a-8c6c-a5d5fc5e69b9",
   "metadata": {},
   "outputs": [],
   "source": []
  }
 ],
 "metadata": {
  "kernelspec": {
   "display_name": ".venv",
   "language": "python",
   "name": ".venv"
  },
  "language_info": {
   "codemirror_mode": {
    "name": "ipython",
    "version": 3
   },
   "file_extension": ".py",
   "mimetype": "text/x-python",
   "name": "python",
   "nbconvert_exporter": "python",
   "pygments_lexer": "ipython3",
   "version": "3.9.6"
  }
 },
 "nbformat": 4,
 "nbformat_minor": 5
}
