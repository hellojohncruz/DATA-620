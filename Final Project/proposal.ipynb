{
 "cells": [
  {
   "cell_type": "markdown",
   "id": "917570b6-3052-4ca7-9849-cc34cb88a5e7",
   "metadata": {},
   "source": [
    "# Final Project Proposal"
   ]
  },
  {
   "cell_type": "markdown",
   "id": "90aef999-c28d-4208-8994-ea74c39492d3",
   "metadata": {},
   "source": [
    "## Food Recipes and Reviews\n",
    "\n",
    "This project will focus on a large dataset derived from web scraping Food.com. The dataset comprises a substantial number of recipes, each accompanied by ingredient lists, cooking instructions, preparation and cooking times, and descriptive summaries. In addition, it includes user-generated reviews, featuring both numerical ratings and written evaluations of the recipes.\n",
    "\n",
    "The objectives of the project are twofold. First, I will conduct a network analysis to investigate the interactions between ingredients across recipes, aiming to identify which ingredients serve as central nodes within the network. It is hypothesized that fundamental ingredients such as sugar, salt, and flour will exhibit high centrality measures. Second, I will perform a textual analysis of recipe descriptions to assess whether the language used correlates with positive user reviews. Specifically, the analysis will examine whether the presence and frequency of particular keywords in descriptions are associated with higher user engagement and ratings. These findings could inform strategic business decisions, such as optimizing recipe descriptions to enhance user interaction and satisfaction on the platform.\n",
    "\n",
    "[Kaggle](https://www.kaggle.com/datasets/shuyangli94/food-com-recipes-and-user-interactions?select=RAW_interactions.csv)"
   ]
  }
 ],
 "metadata": {
  "kernelspec": {
   "display_name": ".venv",
   "language": "python",
   "name": ".venv"
  },
  "language_info": {
   "codemirror_mode": {
    "name": "ipython",
    "version": 3
   },
   "file_extension": ".py",
   "mimetype": "text/x-python",
   "name": "python",
   "nbconvert_exporter": "python",
   "pygments_lexer": "ipython3",
   "version": "3.9.6"
  }
 },
 "nbformat": 4,
 "nbformat_minor": 5
}
